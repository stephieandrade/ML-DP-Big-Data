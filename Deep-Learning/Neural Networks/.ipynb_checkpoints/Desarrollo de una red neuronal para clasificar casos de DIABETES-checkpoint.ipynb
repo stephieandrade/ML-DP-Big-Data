{
 "cells": [
  {
   "cell_type": "markdown",
   "metadata": {},
   "source": [
    "<h1><font color=\"#113D68\" size=6>Deep Learning con Python y Keras</font></h1>\n",
    "\n",
    "<h1><font color=\"#113D68\" size=5>Parte 3. Multilayer Perceptron</font></h1>\n",
    "\n",
    "<h1><font color=\"#113D68\" size=4>2. Desarrollar una red neuronal</font></h1>\n",
    "\n",
    "<br><br>\n",
    "<div style=\"text-align: right\">\n",
    "<font color=\"#113D68\" size=3>Manuel Castillo Cara</font><br>\n",
    "\n",
    "</div>"
   ]
  },
  {
   "cell_type": "markdown",
   "metadata": {},
   "source": [
    "---\n",
    "\n",
    "<a id=\"indice\"></a>\n",
    "<h2><font color=\"#004D7F\" size=5>Índice</font></h2>\n",
    "\n",
    "* [0. Contexto](#section0)\n",
    "* [1. Conjunto de datos](#section1)\n",
    "* [2. Cargar datos](#section2)\n",
    "* [3. Definir modelo](#section3)\n",
    "* [4. Compilar modelo](#section4)\n",
    "* [5. Ajustar modelo](#section5)\n",
    "* [6. Evaluar modelo](#section6)\n",
    "* [7. Hacer predicciones](#section7)\n"
   ]
  },
  {
   "cell_type": "markdown",
   "metadata": {},
   "source": [
    "---\n",
    "<a id=\"section0\"></a>\n",
    "# <font color=\"#004D7F\" size=6> 0. Contexto</font>"
   ]
  },
  {
   "cell_type": "markdown",
   "metadata": {},
   "source": [
    "En esta lección, diseñaremos nuestra primera red neuronal. Después de completar esta lección, sabrá:\n",
    "* Cómo cargar un conjunto de datos para usar con Keras.\n",
    "* Cómo diseñar y compilar un modelo de perceptrón multicapa en Keras.\n",
    "* Cómo evaluar un modelo de Keras."
   ]
  },
  {
   "cell_type": "markdown",
   "metadata": {},
   "source": [
    "---\n",
    "<div style=\"text-align: right\"> <font size=5> <a href=\"#indice\"><i class=\"fa fa-arrow-circle-up\" aria-hidden=\"true\" style=\"color:#004D7F\"></i></a></font></div>\n",
    "\n",
    "---"
   ]
  },
  {
   "cell_type": "markdown",
   "metadata": {},
   "source": [
    "<a id=\"section1\"></a>\n",
    "# <font color=\"#004D7F\" size=6>1. Conjunto de datos</font>"
   ]
  },
  {
   "cell_type": "markdown",
   "metadata": {},
   "source": [
    "En este tutorial vamos a utilizar el conjunto de datos Pima Indians Diabetes. Describe los datos de los registros médicos de los pacientes y si tuvieron una aparición de diabetes dentro de los cinco años. Es un problema de clasificación binaria (aparición de diabetes como 1 o 0 si no aparece). Las variables de entrada que describen a cada paciente son numéricas y tienen escalas variables.\n",
    "\n",
    "Dado que todos los atributos son numéricos, es fácil de usar directamente con redes neuronales que esperan entradas y valores de salida numéricos."
   ]
  },
  {
   "cell_type": "markdown",
   "metadata": {},
   "source": [
    "<div class=\"alert alert-block alert-info\">\n",
    "    \n",
    "<i class=\"fa fa-info-circle\" aria-hidden=\"true\"></i>\n",
    "Puede descargar el Dataset desde [Kaggle](https://www.kaggle.com/uciml/pima-indians-diabetes-database)"
   ]
  },
  {
   "cell_type": "markdown",
   "metadata": {},
   "source": [
    "La precisión de la línea de base si se hacen todas las predicciones ya que no aparece la diabetes es del 65,1%. Los mejores resultados en el conjunto de datos están en el rango de 77,7% de precisión utilizando una validación cruzada de 10 veces."
   ]
  },
  {
   "cell_type": "markdown",
   "metadata": {},
   "source": [
    "---\n",
    "<div style=\"text-align: right\"> <font size=5> <a href=\"#indice\"><i class=\"fa fa-arrow-circle-up\" aria-hidden=\"true\" style=\"color:#004D7F\"></i></a></font></div>\n",
    "\n",
    "---"
   ]
  },
  {
   "cell_type": "markdown",
   "metadata": {},
   "source": [
    "<a id=\"section2\"></a>\n",
    "# <font color=\"#004D7F\" size=6>2. Cargar datos</font>"
   ]
  },
  {
   "cell_type": "markdown",
   "metadata": {},
   "source": [
    "VAmos a cargar el archivo directamente usando la función `loadtxt()` de NumPy y establecer dividir las características y target."
   ]
  },
  {
   "cell_type": "code",
   "execution_count": 5,
   "metadata": {
    "scrolled": true
   },
   "outputs": [],
   "source": [
    "???"
   ]
  },
  {
   "cell_type": "markdown",
   "metadata": {},
   "source": [
    "---\n",
    "<div style=\"text-align: right\"> <font size=5> <a href=\"#indice\"><i class=\"fa fa-arrow-circle-up\" aria-hidden=\"true\" style=\"color:#004D7F\"></i></a></font></div>\n",
    "\n",
    "---"
   ]
  },
  {
   "cell_type": "markdown",
   "metadata": {},
   "source": [
    "<a id=\"section3\"></a>\n",
    "# <font color=\"#004D7F\" size=6>3. Definir modelo</font>"
   ]
  },
  {
   "cell_type": "markdown",
   "metadata": {},
   "source": [
    "Los modelos en Keras se definen como una secuencia de capas. Creamos un modelo **Secuencial** y agregamos capas de una en una hasta que estemos satisfechos con nuestra topología de red. \n",
    "\n",
    "Lo primero que debe hacer bien es asegurarse de que la capa de entrada tenga el número correcto de entradas. Esto se puede especificar al crear la primera capa con el argumento `input_dim` y establecerlo en 8. \n",
    "\n",
    "Pregunta, ¿Cómo sabemos la cantidad de capas que debemos usar y sus tipos? \n",
    "\n",
    "\n",
    "En sí el procedimiento a utilizar será:\n",
    "1. Las capas completamente conectadas se definen mediante la clase `Dense`. Se puede especificar:\n",
    "    * El número de neuronas en la capa como primer argumento y \n",
    "    * Especificar la función de activación usando el parámetro `activation`.\n",
    "2. Usaremos la función de activación ReLu en las dos primeras capas y la función de activación Sigmoidea en la capa de salida. \n",
    "3. Usamos una función de activación sigmoidea en la capa de salida para garantizar que la salida de nuestra red esté entre 0 y 1. \n",
    "\n",
    "La siguiente figura proporciona una descripción de la estructura de la red.\n",
    "\n",
    "\n",
    "<img src=\"images/2_redNeuronal.png\" width=\"200\" height=\"200\" />"
   ]
  },
  {
   "cell_type": "code",
   "execution_count": 7,
   "metadata": {},
   "outputs": [],
   "source": [
    "???"
   ]
  },
  {
   "cell_type": "markdown",
   "metadata": {},
   "source": [
    "---\n",
    "<div style=\"text-align: right\"> <font size=5> <a href=\"#indice\"><i class=\"fa fa-arrow-circle-up\" aria-hidden=\"true\" style=\"color:#004D7F\"></i></a></font></div>\n",
    "\n",
    "---"
   ]
  },
  {
   "cell_type": "markdown",
   "metadata": {},
   "source": [
    "<a id=\"section4\"></a>\n",
    "# <font color=\"#004D7F\" size=6>4. Compilar modelo</font>"
   ]
  },
  {
   "cell_type": "markdown",
   "metadata": {},
   "source": [
    "Ahora que el modelo está definido, podemos compilarlo. \n",
    "\n",
    "Al compilar, debemos especificar algunas propiedades adicionales requeridas al entrenar la red. \n",
    "\n",
    "Debemos especificar:\n",
    "1. La función de pérdida que se utilizará para evaluar un conjunto de ponderaciones, \n",
    "2. El optimizador utilizado para buscar entre diferentes ponderaciones para la red y\n",
    "3. Cualquier métrica opcional que nos gustaría recopilar e informar durante el entrenamiento. \n",
    "    * En este caso usaremos la **pérdida logarítmica**, que para un problema de clasificación binaria se define como `binary_crossentropy`. \n",
    "4. También usaremos el algoritmo de Gradiente Descendiente `adam` \n",
    "5. Finalmente, debido a que es un problema de clasificación nuestra métrica será el Accuracy."
   ]
  },
  {
   "cell_type": "markdown",
   "metadata": {},
   "source": [
    "<div class=\"alert alert-block alert-info\">\n",
    "    \n",
    "<i class=\"fa fa-info-circle\" aria-hidden=\"true\"></i>\n",
    "Obtenga más información sobre el algoritmo de optimización de Adam en el artículo [_Adam: A Method for Stochastic Optimization_](https://arxiv.org/abs/1412.6980)"
   ]
  },
  {
   "cell_type": "code",
   "execution_count": 8,
   "metadata": {},
   "outputs": [],
   "source": [
    "???"
   ]
  },
  {
   "cell_type": "markdown",
   "metadata": {},
   "source": [
    "---\n",
    "<div style=\"text-align: right\"> <font size=5> <a href=\"#indice\"><i class=\"fa fa-arrow-circle-up\" aria-hidden=\"true\" style=\"color:#004D7F\"></i></a></font></div>\n",
    "\n",
    "---"
   ]
  },
  {
   "cell_type": "markdown",
   "metadata": {},
   "source": [
    "<a id=\"section5\"></a>\n",
    "# <font color=\"#004D7F\" size=6>5. Ajustar modelo</font>"
   ]
  },
  {
   "cell_type": "markdown",
   "metadata": {},
   "source": [
    "Hemos definido nuestro modelo y lo hemos compilado listo para un cálculo eficiente. Ahora es el momento de ejecutar el modelo en algunos datos llamando a la función `fit()`.\n",
    "* El proceso de entrenamiento se ejecutará para un número fijo de iteraciones usando el argumento `epochs`. \n",
    "* También podemos establecer el número de instancias que se evalúan antes de que se realice una actualización de peso en la red, denominada tamaño de batch, y se establece mediante el argumento `batch_size`. "
   ]
  },
  {
   "cell_type": "code",
   "execution_count": 9,
   "metadata": {
    "scrolled": true
   },
   "outputs": [
    {
     "name": "stdout",
     "output_type": "stream",
     "text": [
      "Epoch 1/150\n",
      "48/48 [==============================] - 0s 558us/step - loss: 33.2661 - accuracy: 0.6510\n",
      "Epoch 2/150\n",
      "48/48 [==============================] - 0s 495us/step - loss: 3.4116 - accuracy: 0.5638\n",
      "Epoch 3/150\n",
      "48/48 [==============================] - 0s 575us/step - loss: 1.3918 - accuracy: 0.5807\n",
      "Epoch 4/150\n",
      "48/48 [==============================] - 0s 537us/step - loss: 0.9837 - accuracy: 0.6094\n",
      "Epoch 5/150\n",
      "48/48 [==============================] - 0s 478us/step - loss: 0.8952 - accuracy: 0.6237\n",
      "Epoch 6/150\n",
      "48/48 [==============================] - 0s 720us/step - loss: 0.8642 - accuracy: 0.6276\n",
      "Epoch 7/150\n",
      "48/48 [==============================] - 0s 728us/step - loss: 0.9002 - accuracy: 0.6094\n",
      "Epoch 8/150\n",
      "48/48 [==============================] - 0s 563us/step - loss: 0.8325 - accuracy: 0.6458\n",
      "Epoch 9/150\n",
      "48/48 [==============================] - 0s 580us/step - loss: 0.7932 - accuracy: 0.6354\n",
      "Epoch 10/150\n",
      "48/48 [==============================] - 0s 667us/step - loss: 0.7762 - accuracy: 0.6458\n",
      "Epoch 11/150\n",
      "48/48 [==============================] - 0s 707us/step - loss: 0.7803 - accuracy: 0.6393\n",
      "Epoch 12/150\n",
      "48/48 [==============================] - 0s 593us/step - loss: 0.7654 - accuracy: 0.6445\n",
      "Epoch 13/150\n",
      "48/48 [==============================] - 0s 619us/step - loss: 0.8065 - accuracy: 0.6250\n",
      "Epoch 14/150\n",
      "48/48 [==============================] - 0s 651us/step - loss: 0.8073 - accuracy: 0.6211\n",
      "Epoch 15/150\n",
      "48/48 [==============================] - 0s 585us/step - loss: 0.7410 - accuracy: 0.6432\n",
      "Epoch 16/150\n",
      "48/48 [==============================] - 0s 537us/step - loss: 0.7582 - accuracy: 0.6471\n",
      "Epoch 17/150\n",
      "48/48 [==============================] - 0s 502us/step - loss: 0.7176 - accuracy: 0.6432\n",
      "Epoch 18/150\n",
      "48/48 [==============================] - 0s 655us/step - loss: 0.7116 - accuracy: 0.6445\n",
      "Epoch 19/150\n",
      "48/48 [==============================] - 0s 779us/step - loss: 0.7106 - accuracy: 0.6628\n",
      "Epoch 20/150\n",
      "48/48 [==============================] - 0s 600us/step - loss: 0.7502 - accuracy: 0.6289\n",
      "Epoch 21/150\n",
      "48/48 [==============================] - 0s 1ms/step - loss: 0.7818 - accuracy: 0.6315\n",
      "Epoch 22/150\n",
      "48/48 [==============================] - 0s 1ms/step - loss: 0.7387 - accuracy: 0.6315\n",
      "Epoch 23/150\n",
      "48/48 [==============================] - 0s 916us/step - loss: 0.7255 - accuracy: 0.6367\n",
      "Epoch 24/150\n",
      "48/48 [==============================] - 0s 694us/step - loss: 0.6919 - accuracy: 0.6615\n",
      "Epoch 25/150\n",
      "48/48 [==============================] - 0s 684us/step - loss: 0.6817 - accuracy: 0.6706\n",
      "Epoch 26/150\n",
      "48/48 [==============================] - 0s 633us/step - loss: 0.6766 - accuracy: 0.6628\n",
      "Epoch 27/150\n",
      "48/48 [==============================] - 0s 646us/step - loss: 0.6630 - accuracy: 0.6667\n",
      "Epoch 28/150\n",
      "48/48 [==============================] - 0s 716us/step - loss: 0.6608 - accuracy: 0.6628\n",
      "Epoch 29/150\n",
      "48/48 [==============================] - 0s 612us/step - loss: 0.6468 - accuracy: 0.6654\n",
      "Epoch 30/150\n",
      "48/48 [==============================] - 0s 685us/step - loss: 0.6683 - accuracy: 0.6562\n",
      "Epoch 31/150\n",
      "48/48 [==============================] - 0s 741us/step - loss: 0.6792 - accuracy: 0.6602\n",
      "Epoch 32/150\n",
      "48/48 [==============================] - 0s 638us/step - loss: 0.6895 - accuracy: 0.6484\n",
      "Epoch 33/150\n",
      "48/48 [==============================] - 0s 519us/step - loss: 0.6982 - accuracy: 0.6445\n",
      "Epoch 34/150\n",
      "48/48 [==============================] - 0s 607us/step - loss: 0.7066 - accuracy: 0.6602\n",
      "Epoch 35/150\n",
      "48/48 [==============================] - 0s 588us/step - loss: 0.6525 - accuracy: 0.6589\n",
      "Epoch 36/150\n",
      "48/48 [==============================] - 0s 601us/step - loss: 0.6720 - accuracy: 0.6523\n",
      "Epoch 37/150\n",
      "48/48 [==============================] - 0s 616us/step - loss: 0.6512 - accuracy: 0.6758\n",
      "Epoch 38/150\n",
      "48/48 [==============================] - 0s 588us/step - loss: 0.6453 - accuracy: 0.6836\n",
      "Epoch 39/150\n",
      "48/48 [==============================] - 0s 535us/step - loss: 0.6346 - accuracy: 0.6849\n",
      "Epoch 40/150\n",
      "48/48 [==============================] - 0s 836us/step - loss: 0.7211 - accuracy: 0.6823\n",
      "Epoch 41/150\n",
      "48/48 [==============================] - 0s 690us/step - loss: 0.7236 - accuracy: 0.6380\n",
      "Epoch 42/150\n",
      "48/48 [==============================] - 0s 632us/step - loss: 0.6028 - accuracy: 0.6914\n",
      "Epoch 43/150\n",
      "48/48 [==============================] - 0s 634us/step - loss: 0.6119 - accuracy: 0.6875\n",
      "Epoch 44/150\n",
      "48/48 [==============================] - 0s 683us/step - loss: 0.6890 - accuracy: 0.6628\n",
      "Epoch 45/150\n",
      "48/48 [==============================] - 0s 621us/step - loss: 0.6697 - accuracy: 0.6667\n",
      "Epoch 46/150\n",
      "48/48 [==============================] - 0s 637us/step - loss: 0.6218 - accuracy: 0.6732\n",
      "Epoch 47/150\n",
      "48/48 [==============================] - 0s 813us/step - loss: 0.6193 - accuracy: 0.6979\n",
      "Epoch 48/150\n",
      "48/48 [==============================] - 0s 781us/step - loss: 0.6266 - accuracy: 0.6940\n",
      "Epoch 49/150\n",
      "48/48 [==============================] - 0s 591us/step - loss: 0.6224 - accuracy: 0.6953\n",
      "Epoch 50/150\n",
      "48/48 [==============================] - 0s 563us/step - loss: 0.6767 - accuracy: 0.6797\n",
      "Epoch 51/150\n",
      "48/48 [==============================] - 0s 639us/step - loss: 0.6426 - accuracy: 0.6953\n",
      "Epoch 52/150\n",
      "48/48 [==============================] - 0s 644us/step - loss: 0.5892 - accuracy: 0.6992\n",
      "Epoch 53/150\n",
      "48/48 [==============================] - 0s 636us/step - loss: 0.6590 - accuracy: 0.6745\n",
      "Epoch 54/150\n",
      "48/48 [==============================] - 0s 665us/step - loss: 0.6829 - accuracy: 0.6680\n",
      "Epoch 55/150\n",
      "48/48 [==============================] - 0s 492us/step - loss: 0.5940 - accuracy: 0.7122\n",
      "Epoch 56/150\n",
      "48/48 [==============================] - 0s 538us/step - loss: 0.6268 - accuracy: 0.6888\n",
      "Epoch 57/150\n",
      "48/48 [==============================] - 0s 522us/step - loss: 0.6063 - accuracy: 0.7005\n",
      "Epoch 58/150\n",
      "48/48 [==============================] - 0s 572us/step - loss: 0.6080 - accuracy: 0.6953\n",
      "Epoch 59/150\n",
      "48/48 [==============================] - 0s 480us/step - loss: 0.6348 - accuracy: 0.6940\n",
      "Epoch 60/150\n",
      "48/48 [==============================] - 0s 489us/step - loss: 0.6072 - accuracy: 0.6771\n",
      "Epoch 61/150\n",
      "48/48 [==============================] - 0s 511us/step - loss: 0.5981 - accuracy: 0.6979\n",
      "Epoch 62/150\n",
      "48/48 [==============================] - 0s 605us/step - loss: 0.5771 - accuracy: 0.7201\n",
      "Epoch 63/150\n",
      "48/48 [==============================] - 0s 721us/step - loss: 0.5853 - accuracy: 0.7083\n",
      "Epoch 64/150\n",
      "48/48 [==============================] - 0s 726us/step - loss: 0.5992 - accuracy: 0.6927\n",
      "Epoch 65/150\n",
      "48/48 [==============================] - 0s 739us/step - loss: 0.5836 - accuracy: 0.7031\n",
      "Epoch 66/150\n",
      "48/48 [==============================] - 0s 622us/step - loss: 0.5866 - accuracy: 0.6927\n",
      "Epoch 67/150\n",
      "48/48 [==============================] - 0s 649us/step - loss: 0.6384 - accuracy: 0.6784\n",
      "Epoch 68/150\n",
      "48/48 [==============================] - 0s 662us/step - loss: 0.5944 - accuracy: 0.7031\n",
      "Epoch 69/150\n",
      "48/48 [==============================] - 0s 558us/step - loss: 0.6920 - accuracy: 0.6849\n",
      "Epoch 70/150\n",
      "48/48 [==============================] - 0s 579us/step - loss: 0.6818 - accuracy: 0.6745\n",
      "Epoch 71/150\n",
      "48/48 [==============================] - 0s 526us/step - loss: 0.5757 - accuracy: 0.7122\n",
      "Epoch 72/150\n",
      "48/48 [==============================] - 0s 527us/step - loss: 0.5859 - accuracy: 0.7070\n",
      "Epoch 73/150\n",
      "48/48 [==============================] - 0s 737us/step - loss: 0.6472 - accuracy: 0.6875\n",
      "Epoch 74/150\n",
      "48/48 [==============================] - 0s 760us/step - loss: 0.6269 - accuracy: 0.6797\n",
      "Epoch 75/150\n",
      "48/48 [==============================] - 0s 541us/step - loss: 0.6103 - accuracy: 0.7031\n",
      "Epoch 76/150\n",
      "48/48 [==============================] - 0s 605us/step - loss: 0.5552 - accuracy: 0.7227\n",
      "Epoch 77/150\n",
      "48/48 [==============================] - 0s 753us/step - loss: 0.6022 - accuracy: 0.6940\n",
      "Epoch 78/150\n",
      "48/48 [==============================] - 0s 556us/step - loss: 0.5844 - accuracy: 0.7161\n",
      "Epoch 79/150\n",
      "48/48 [==============================] - 0s 599us/step - loss: 0.5699 - accuracy: 0.7083\n",
      "Epoch 80/150\n",
      "48/48 [==============================] - 0s 694us/step - loss: 0.5652 - accuracy: 0.7161\n",
      "Epoch 81/150\n",
      "48/48 [==============================] - 0s 492us/step - loss: 0.5828 - accuracy: 0.7161\n",
      "Epoch 82/150\n",
      "48/48 [==============================] - 0s 580us/step - loss: 0.6125 - accuracy: 0.7070\n",
      "Epoch 83/150\n",
      "48/48 [==============================] - 0s 592us/step - loss: 0.5785 - accuracy: 0.7109\n",
      "Epoch 84/150\n",
      "48/48 [==============================] - 0s 669us/step - loss: 0.6419 - accuracy: 0.6914\n",
      "Epoch 85/150\n",
      "48/48 [==============================] - 0s 718us/step - loss: 0.6287 - accuracy: 0.6940\n",
      "Epoch 86/150\n",
      "48/48 [==============================] - 0s 778us/step - loss: 0.5979 - accuracy: 0.7188\n",
      "Epoch 87/150\n",
      "48/48 [==============================] - 0s 612us/step - loss: 0.5666 - accuracy: 0.7279\n",
      "Epoch 88/150\n",
      "48/48 [==============================] - 0s 611us/step - loss: 0.6372 - accuracy: 0.6836\n",
      "Epoch 89/150\n",
      "48/48 [==============================] - 0s 635us/step - loss: 0.5548 - accuracy: 0.7266\n",
      "Epoch 90/150\n",
      "48/48 [==============================] - 0s 571us/step - loss: 0.5990 - accuracy: 0.6953\n",
      "Epoch 91/150\n",
      "48/48 [==============================] - 0s 573us/step - loss: 0.6205 - accuracy: 0.6979\n",
      "Epoch 92/150\n",
      "48/48 [==============================] - 0s 699us/step - loss: 0.6101 - accuracy: 0.7031\n",
      "Epoch 93/150\n",
      "48/48 [==============================] - 0s 516us/step - loss: 0.5593 - accuracy: 0.7148\n",
      "Epoch 94/150\n",
      "48/48 [==============================] - 0s 619us/step - loss: 0.5616 - accuracy: 0.7214\n",
      "Epoch 95/150\n",
      "48/48 [==============================] - 0s 567us/step - loss: 0.5448 - accuracy: 0.7344\n",
      "Epoch 96/150\n",
      "48/48 [==============================] - 0s 551us/step - loss: 0.6015 - accuracy: 0.7070\n",
      "Epoch 97/150\n",
      "48/48 [==============================] - 0s 497us/step - loss: 0.6525 - accuracy: 0.6914\n",
      "Epoch 98/150\n",
      "48/48 [==============================] - 0s 521us/step - loss: 0.5629 - accuracy: 0.7135\n",
      "Epoch 99/150\n",
      "48/48 [==============================] - 0s 637us/step - loss: 0.5634 - accuracy: 0.7201\n",
      "Epoch 100/150\n",
      "48/48 [==============================] - 0s 582us/step - loss: 0.5495 - accuracy: 0.7422\n",
      "Epoch 101/150\n",
      "48/48 [==============================] - 0s 569us/step - loss: 0.5613 - accuracy: 0.7174\n",
      "Epoch 102/150\n",
      "48/48 [==============================] - 0s 541us/step - loss: 0.5917 - accuracy: 0.7135\n",
      "Epoch 103/150\n",
      "48/48 [==============================] - 0s 598us/step - loss: 0.7011 - accuracy: 0.6797\n",
      "Epoch 104/150\n",
      "48/48 [==============================] - 0s 647us/step - loss: 0.5756 - accuracy: 0.7044\n",
      "Epoch 105/150\n",
      "48/48 [==============================] - 0s 610us/step - loss: 0.6034 - accuracy: 0.7292\n",
      "Epoch 106/150\n",
      "48/48 [==============================] - 0s 672us/step - loss: 0.6497 - accuracy: 0.6966\n",
      "Epoch 107/150\n",
      "48/48 [==============================] - 0s 667us/step - loss: 0.5653 - accuracy: 0.7044\n",
      "Epoch 108/150\n",
      "48/48 [==============================] - 0s 628us/step - loss: 0.5574 - accuracy: 0.7161\n",
      "Epoch 109/150\n",
      "48/48 [==============================] - 0s 716us/step - loss: 0.5713 - accuracy: 0.7409\n",
      "Epoch 110/150\n",
      "48/48 [==============================] - 0s 634us/step - loss: 0.5693 - accuracy: 0.7253\n",
      "Epoch 111/150\n",
      "48/48 [==============================] - 0s 599us/step - loss: 0.5527 - accuracy: 0.7344\n",
      "Epoch 112/150\n",
      "48/48 [==============================] - 0s 523us/step - loss: 0.5827 - accuracy: 0.7109\n",
      "Epoch 113/150\n",
      "48/48 [==============================] - 0s 602us/step - loss: 0.6074 - accuracy: 0.6992\n",
      "Epoch 114/150\n",
      "48/48 [==============================] - 0s 447us/step - loss: 0.5442 - accuracy: 0.7344\n",
      "Epoch 115/150\n",
      "48/48 [==============================] - 0s 511us/step - loss: 0.5613 - accuracy: 0.7409\n",
      "Epoch 116/150\n",
      "48/48 [==============================] - 0s 467us/step - loss: 0.5383 - accuracy: 0.7266\n",
      "Epoch 117/150\n",
      "48/48 [==============================] - 0s 545us/step - loss: 0.5592 - accuracy: 0.7214\n",
      "Epoch 118/150\n",
      "48/48 [==============================] - 0s 537us/step - loss: 0.5505 - accuracy: 0.7318\n",
      "Epoch 119/150\n",
      "48/48 [==============================] - 0s 507us/step - loss: 0.6351 - accuracy: 0.7070\n",
      "Epoch 120/150\n",
      "48/48 [==============================] - 0s 615us/step - loss: 0.5650 - accuracy: 0.7409\n",
      "Epoch 121/150\n",
      "48/48 [==============================] - 0s 555us/step - loss: 0.5389 - accuracy: 0.7305\n",
      "Epoch 122/150\n",
      "48/48 [==============================] - 0s 625us/step - loss: 0.5975 - accuracy: 0.7005\n",
      "Epoch 123/150\n",
      "48/48 [==============================] - 0s 573us/step - loss: 0.5482 - accuracy: 0.7240\n",
      "Epoch 124/150\n",
      "48/48 [==============================] - 0s 530us/step - loss: 0.5321 - accuracy: 0.7305\n",
      "Epoch 125/150\n",
      "48/48 [==============================] - 0s 534us/step - loss: 0.5549 - accuracy: 0.7214\n",
      "Epoch 126/150\n",
      "48/48 [==============================] - 0s 597us/step - loss: 0.5467 - accuracy: 0.7552\n",
      "Epoch 127/150\n",
      "48/48 [==============================] - 0s 654us/step - loss: 0.5470 - accuracy: 0.7448\n",
      "Epoch 128/150\n",
      "48/48 [==============================] - 0s 567us/step - loss: 0.5915 - accuracy: 0.7148\n",
      "Epoch 129/150\n",
      "48/48 [==============================] - 0s 583us/step - loss: 0.5538 - accuracy: 0.7305\n",
      "Epoch 130/150\n",
      "48/48 [==============================] - 0s 575us/step - loss: 0.5770 - accuracy: 0.7018\n",
      "Epoch 131/150\n",
      "48/48 [==============================] - 0s 479us/step - loss: 0.5779 - accuracy: 0.7279\n",
      "Epoch 132/150\n",
      "48/48 [==============================] - 0s 742us/step - loss: 0.5742 - accuracy: 0.7188\n",
      "Epoch 133/150\n",
      "48/48 [==============================] - 0s 694us/step - loss: 0.5536 - accuracy: 0.7474\n",
      "Epoch 134/150\n",
      "48/48 [==============================] - 0s 513us/step - loss: 0.5650 - accuracy: 0.7266\n",
      "Epoch 135/150\n",
      "48/48 [==============================] - 0s 617us/step - loss: 0.5222 - accuracy: 0.7539\n",
      "Epoch 136/150\n",
      "48/48 [==============================] - 0s 596us/step - loss: 0.5327 - accuracy: 0.7513\n",
      "Epoch 137/150\n",
      "48/48 [==============================] - 0s 533us/step - loss: 0.5365 - accuracy: 0.7409\n",
      "Epoch 138/150\n",
      "48/48 [==============================] - 0s 601us/step - loss: 0.5342 - accuracy: 0.7370\n",
      "Epoch 139/150\n",
      "48/48 [==============================] - 0s 620us/step - loss: 0.5416 - accuracy: 0.7409\n",
      "Epoch 140/150\n",
      "48/48 [==============================] - 0s 562us/step - loss: 0.5504 - accuracy: 0.7292\n",
      "Epoch 141/150\n",
      "48/48 [==============================] - 0s 701us/step - loss: 0.5475 - accuracy: 0.7201\n",
      "Epoch 142/150\n",
      "48/48 [==============================] - 0s 623us/step - loss: 0.5384 - accuracy: 0.7435\n",
      "Epoch 143/150\n",
      "48/48 [==============================] - 0s 546us/step - loss: 0.5714 - accuracy: 0.7122\n",
      "Epoch 144/150\n",
      "48/48 [==============================] - 0s 540us/step - loss: 0.5522 - accuracy: 0.7214\n",
      "Epoch 145/150\n",
      "48/48 [==============================] - 0s 602us/step - loss: 0.5582 - accuracy: 0.7240\n",
      "Epoch 146/150\n",
      "48/48 [==============================] - 0s 609us/step - loss: 0.5421 - accuracy: 0.7409\n",
      "Epoch 147/150\n",
      "48/48 [==============================] - 0s 512us/step - loss: 0.5241 - accuracy: 0.7396\n",
      "Epoch 148/150\n",
      "48/48 [==============================] - 0s 581us/step - loss: 0.5552 - accuracy: 0.7331\n",
      "Epoch 149/150\n",
      "48/48 [==============================] - 0s 569us/step - loss: 0.5372 - accuracy: 0.7344\n",
      "Epoch 150/150\n",
      "48/48 [==============================] - 0s 608us/step - loss: 0.5278 - accuracy: 0.7487\n"
     ]
    },
    {
     "data": {
      "text/plain": [
       "<tensorflow.python.keras.callbacks.History at 0x7f3d600a1080>"
      ]
     },
     "execution_count": 9,
     "metadata": {},
     "output_type": "execute_result"
    }
   ],
   "source": [
    "???"
   ]
  },
  {
   "cell_type": "markdown",
   "metadata": {},
   "source": [
    "---\n",
    "<div style=\"text-align: right\"> <font size=5> <a href=\"#indice\"><i class=\"fa fa-arrow-circle-up\" aria-hidden=\"true\" style=\"color:#004D7F\"></i></a></font></div>\n",
    "\n",
    "---"
   ]
  },
  {
   "cell_type": "markdown",
   "metadata": {},
   "source": [
    "<a id=\"section6\"></a>\n",
    "# <font color=\"#004D7F\" size=6>6. Evaluar modelo</font>"
   ]
  },
  {
   "cell_type": "markdown",
   "metadata": {},
   "source": [
    "Podemos evaluar tu modelo en tu conjunto de datos de entrenamiento usando la función de `evaluation()` y pasar la misma entrada y salida que usaste para entrenar el modelo."
   ]
  },
  {
   "cell_type": "code",
   "execution_count": 10,
   "metadata": {},
   "outputs": [
    {
     "name": "stdout",
     "output_type": "stream",
     "text": [
      "24/24 [==============================] - 0s 506us/step - loss: 0.6340 - accuracy: 0.6966\n",
      "Accuracy: 69.66\n"
     ]
    }
   ],
   "source": [
    "???"
   ]
  },
  {
   "cell_type": "markdown",
   "metadata": {},
   "source": [
    "---\n",
    "<div style=\"text-align: right\"> <font size=5> <a href=\"#indice\"><i class=\"fa fa-arrow-circle-up\" aria-hidden=\"true\" style=\"color:#004D7F\"></i></a></font></div>\n",
    "\n",
    "---"
   ]
  },
  {
   "cell_type": "markdown",
   "metadata": {},
   "source": [
    "<a id=\"section7\"></a>\n",
    "# <font color=\"#004D7F\" size=6>7. Hacer predicciones</font>"
   ]
  },
  {
   "cell_type": "markdown",
   "metadata": {},
   "source": [
    "Podemos llamar a la función `predict_classes()` para predecir clases directamente, por ejemplo:"
   ]
  },
  {
   "cell_type": "code",
   "execution_count": 5,
   "metadata": {},
   "outputs": [],
   "source": [
    "???"
   ]
  },
  {
   "cell_type": "markdown",
   "metadata": {},
   "source": [
    "Veamos un ejemplo"
   ]
  },
  {
   "cell_type": "code",
   "execution_count": 4,
   "metadata": {},
   "outputs": [
    {
     "name": "stdout",
     "output_type": "stream",
     "text": [
      "[6.0, 148.0, 72.0, 35.0, 0.0, 33.6, 627.0, 50.0] => 1 (expected 1)\n",
      "[1.0, 85.0, 66.0, 29.0, 0.0, 26.6, 351.0, 31.0] => 0 (expected 0)\n",
      "[8.0, 183.0, 64.0, 0.0, 0.0, 23.3, 672.0, 32.0] => 1 (expected 1)\n",
      "[1.0, 89.0, 66.0, 23.0, 94.0, 28.1, 167.0, 21.0] => 0 (expected 0)\n",
      "[0.0, 137.0, 40.0, 35.0, 168.0, 43.1, 2288.0, 33.0] => 1 (expected 1)\n"
     ]
    }
   ],
   "source": [
    "???"
   ]
  },
  {
   "cell_type": "markdown",
   "metadata": {},
   "source": [
    "Ejecutar el ejemplo no muestra la barra de progreso como antes, ya que hemos establecido el argumento `verbose` en 0. "
   ]
  },
  {
   "cell_type": "markdown",
   "metadata": {},
   "source": [
    "<div style=\"text-align: right\"> <font size=5> <a href=\"#indice\"><i class=\"fa fa-arrow-circle-up\" aria-hidden=\"true\" style=\"color:#004D7F\"></i></a></font></div>\n",
    "\n",
    "---\n",
    "\n",
    "<div style=\"text-align: right\"> <font size=6><i class=\"fa fa-coffee\" aria-hidden=\"true\" style=\"color:#004D7F\"></i> </font></div>"
   ]
  }
 ],
 "metadata": {
  "kernelspec": {
   "display_name": "Python 3 (ipykernel)",
   "language": "python",
   "name": "python3"
  },
  "language_info": {
   "codemirror_mode": {
    "name": "ipython",
    "version": 3
   },
   "file_extension": ".py",
   "mimetype": "text/x-python",
   "name": "python",
   "nbconvert_exporter": "python",
   "pygments_lexer": "ipython3",
   "version": "3.9.7"
  }
 },
 "nbformat": 4,
 "nbformat_minor": 2
}
