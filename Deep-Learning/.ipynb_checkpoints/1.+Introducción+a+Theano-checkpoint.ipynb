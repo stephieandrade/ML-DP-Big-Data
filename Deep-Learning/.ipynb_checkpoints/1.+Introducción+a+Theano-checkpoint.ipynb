{
 "cells": [
  {
   "cell_type": "markdown",
   "metadata": {},
   "source": [
    "<h1><font color=\"#113D68\" size=6>Deep Learning con Python y Keras</font></h1>\n",
    "\n",
    "<h1><font color=\"#113D68\" size=5>Parte 1. Background</font></h1>\n",
    "\n",
    "<h1><font color=\"#113D68\" size=4>1. Introducción a Theano</font></h1>\n",
    "\n",
    "<br><br>\n",
    "<div style=\"text-align: right\">\n",
    "<font color=\"#113D68\" size=3>Manuel Castillo Cara</font><br>\n",
    "\n",
    "</div>"
   ]
  },
  {
   "cell_type": "markdown",
   "metadata": {},
   "source": [
    "---\n",
    "\n",
    "<a id=\"indice\"></a>\n",
    "<h2><font color=\"#004D7F\" size=5>Índice</font></h2>\n",
    "\n",
    "* [0. Contexto](#section0)\n",
    "* [1. Introducción](#section1)\n",
    "* [2. Instalar Theano](#section2)\n",
    "* [3. Ejemplo simple de Theano](#section3)\n",
    "* [4. Recursos de Theano](#section4)"
   ]
  },
  {
   "cell_type": "markdown",
   "metadata": {},
   "source": [
    "---\n",
    "<a id=\"section0\"></a>\n",
    "# <font color=\"#004D7F\" size=6> 0. Contexto</font>"
   ]
  },
  {
   "cell_type": "markdown",
   "metadata": {},
   "source": [
    "Theano es una biblioteca de Python para un rápido cálculo numérico que se puede ejecutar en la CPU o GPU. Es una biblioteca fundamental clave para el aprendizaje profundo en Python que puede usar directamente para crear modelos de aprendizaje profundo. \n",
    "\n",
    "En esta unidad trabajaremos:\n",
    "* Acerca de la biblioteca Theano para Python.\n",
    "* Cómo se puede definir, compilar y calcular una expresión simbólica muy sencilla.\n",
    "* Donde puede aprender más sobre Theano."
   ]
  },
  {
   "cell_type": "markdown",
   "metadata": {},
   "source": [
    "---\n",
    "<div style=\"text-align: right\"> <font size=5> <a href=\"#indice\"><i class=\"fa fa-arrow-circle-up\" aria-hidden=\"true\" style=\"color:#004D7F\"></i></a></font></div>\n",
    "\n",
    "---"
   ]
  },
  {
   "cell_type": "markdown",
   "metadata": {},
   "source": [
    "<a id=\"section1\"></a>\n",
    "# <font color=\"#004D7F\" size=6>1. Introducción</font>"
   ]
  },
  {
   "cell_type": "markdown",
   "metadata": {},
   "source": [
    "Theano es un compilador de expresiones matemáticas en Python. Sabe cómo tomar sus estructuras y convertirlas en código muy eficiente que usa NumPy, bibliotecas nativas eficientes como BLAS y código nativo para ejecutarse lo más rápido posible en CPU o GPU.\n",
    "\n",
    "Utiliza una gran cantidad de optimizaciones de código inteligentes para obtener el máximo rendimiento posible de su hardware. "
   ]
  },
  {
   "cell_type": "markdown",
   "metadata": {},
   "source": [
    "<div class=\"alert alert-block alert-info\">\n",
    "    \n",
    "<i class=\"fa fa-info-circle\" aria-hidden=\"true\"></i>\n",
    "Sobre las optimización de operaciones numéricas en el código, consulte esta interesante [lista de Theano](http://deeplearning.net/software/theano/optimizations.html)"
   ]
  },
  {
   "cell_type": "markdown",
   "metadata": {},
   "source": [
    "---\n",
    "<div style=\"text-align: right\"> <font size=5> <a href=\"#indice\"><i class=\"fa fa-arrow-circle-up\" aria-hidden=\"true\" style=\"color:#004D7F\"></i></a></font></div>\n",
    "\n",
    "---"
   ]
  },
  {
   "cell_type": "markdown",
   "metadata": {},
   "source": [
    "<a id=\"section2\"></a>\n",
    "# <font color=\"#004D7F\" size=6>2. Como instalar Theano</font>"
   ]
  },
  {
   "cell_type": "markdown",
   "metadata": {},
   "source": [
    "Theano proporciona amplias instrucciones de instalación para los principales sistemas operativos: Windows, OS X y Linux. \n",
    "\n",
    "Con un entorno funcional de Python y SciPy, es relativamente sencillo instalar Theano usando `pip`, por ejemplo:"
   ]
  },
  {
   "cell_type": "code",
   "execution_count": 1,
   "metadata": {},
   "outputs": [
    {
     "name": "stdout",
     "output_type": "stream",
     "text": [
      "Collecting theano\n",
      "  Downloading Theano-1.0.5.tar.gz (2.8 MB)\n",
      "Requirement already satisfied: numpy>=1.9.1 in c:\\users\\hp\\anaconda3\\lib\\site-packages (from theano) (1.20.3)\n",
      "Requirement already satisfied: scipy>=0.14 in c:\\users\\hp\\anaconda3\\lib\\site-packages (from theano) (1.7.1)\n",
      "Requirement already satisfied: six>=1.9.0 in c:\\users\\hp\\anaconda3\\lib\\site-packages (from theano) (1.16.0)\n",
      "Building wheels for collected packages: theano\n",
      "  Building wheel for theano (setup.py): started\n",
      "  Building wheel for theano (setup.py): finished with status 'done'\n",
      "  Created wheel for theano: filename=Theano-1.0.5-py3-none-any.whl size=2668125 sha256=e40bf65bf4ac7774c52f949f972a66757a94995e175a9ad5c29543a1bb012ab4\n",
      "  Stored in directory: c:\\users\\hp\\appdata\\local\\pip\\cache\\wheels\\12\\d8\\36\\e9b7c617ca8be398dcc48621c539d0cb1d41ff04e4367fc235\n",
      "Successfully built theano\n",
      "Installing collected packages: theano\n",
      "Successfully installed theano-1.0.5\n"
     ]
    }
   ],
   "source": [
    "!pip install theano"
   ]
  },
  {
   "cell_type": "markdown",
   "metadata": {},
   "source": [
    "Es posible que se anuncien nuevas versiones de Theano y querrá actualizar para obtener correcciones de errores y mejoras de eficiencia. Puede actualizar Theano usando `pip` de la siguiente manera:"
   ]
  },
  {
   "cell_type": "code",
   "execution_count": 2,
   "metadata": {},
   "outputs": [
    {
     "name": "stdout",
     "output_type": "stream",
     "text": [
      "Requirement already satisfied: theano in c:\\users\\hp\\anaconda3\\lib\\site-packages (1.0.5)\n"
     ]
    }
   ],
   "source": [
    "!pip install --upgrade --no-deps theano"
   ]
  },
  {
   "cell_type": "markdown",
   "metadata": {},
   "source": [
    "Ahora está listo para ejecutar Theano en su CPU."
   ]
  },
  {
   "cell_type": "code",
   "execution_count": null,
   "metadata": {},
   "outputs": [],
   "source": [
    "import theano as th\n",
    "print('Theano: %s ' % th.__version__)"
   ]
  },
  {
   "cell_type": "markdown",
   "metadata": {},
   "source": [
    "<div class=\"alert alert-block alert-info\">\n",
    "    \n",
    "<i class=\"fa fa-info-circle\" aria-hidden=\"true\"></i>\n",
    "Ver como [instalar Theano](http://deeplearning.net/software/theano/install.html)"
   ]
  },
  {
   "cell_type": "markdown",
   "metadata": {},
   "source": [
    "---\n",
    "<div style=\"text-align: right\"> <font size=5> <a href=\"#indice\"><i class=\"fa fa-arrow-circle-up\" aria-hidden=\"true\" style=\"color:#004D7F\"></i></a></font></div>\n",
    "\n",
    "---"
   ]
  },
  {
   "cell_type": "markdown",
   "metadata": {},
   "source": [
    "<a id=\"section3\"></a>\n",
    "# <font color=\"#004D7F\" size=6>3. Ejemplo en Theano</font>"
   ]
  },
  {
   "cell_type": "markdown",
   "metadata": {},
   "source": [
    "1. En este ejemplo definimos dos variables simbólicas de coma flotante $a$ y $b$. \n",
    "2. Definimos una expresión que usa estas variables $(c = a + b)$. \n",
    "3. Luego compilamos esta expresión simbólica.\n",
    "4. Finalmente, usamos nuestra expresión compilada insertando algunos valores reales y realizando el cálculo."
   ]
  },
  {
   "cell_type": "code",
   "execution_count": 8,
   "metadata": {},
   "outputs": [
    {
     "name": "stdout",
     "output_type": "stream",
     "text": [
      "4.0\n"
     ]
    }
   ],
   "source": [
    "import theano as th \n",
    "from theano import tensor #tensores escalares\n",
    "\n",
    "a = tensor.dscalar()\n",
    "b = tensor.dscalar()\n",
    "c = a+b\n",
    "f = th.function([a,b], c)\n",
    "result = f(1.5,2.5)\n",
    "print(result)\n",
    "\n"
   ]
  },
  {
   "cell_type": "markdown",
   "metadata": {},
   "source": [
    "Al ejecutar el ejemplo, se imprime la salida 4, que coincide con nuestra expectativa de que $1,5 + 2,5 = 4,0$. Este es un ejemplo útil, ya que le da una idea de cómo se puede definir, compilar y usar una expresión simbólica. Aunque solo hemos realizado una introducción básica de sumar dos números, puede ver cómo el cálculo predefinido que se compilará para la eficiencia se puede escalar a grandes operaciones vectoriales y matriciales necesarias para el aprendizaje profundo."
   ]
  },
  {
   "cell_type": "markdown",
   "metadata": {},
   "source": [
    "---\n",
    "<div style=\"text-align: right\"> <font size=5> <a href=\"#indice\"><i class=\"fa fa-arrow-circle-up\" aria-hidden=\"true\" style=\"color:#004D7F\"></i></a></font></div>\n",
    "\n",
    "---"
   ]
  },
  {
   "cell_type": "markdown",
   "metadata": {},
   "source": [
    "<a id=\"section4\"></a>\n",
    "# <font color=\"#004D7F\" size=6>4. Recursos de Theano</font>"
   ]
  },
  {
   "cell_type": "markdown",
   "metadata": {},
   "source": [
    "* [Theano Official Homepage](http://deeplearning.net/software/theano/)\n",
    "* [Theano GitHub Repository](https://github.com/Theano/Theano/)\n",
    "* [Theano: A CPU and GPU Math Compiler in Python (2010)](http://www.iro.umontreal.ca/~lisa/pointeurs/theano_scipy2010.pdf)\n",
    "* [List of Libraries Built on Theano](https://github.com/Theano/Theano/wiki/Related-projects)\n",
    "* [List of Theano configuration options](http://deeplearning.net/software/theano/library/config.html)"
   ]
  },
  {
   "cell_type": "markdown",
   "metadata": {},
   "source": [
    "<div style=\"text-align: right\"> <font size=5> <a href=\"#indice\"><i class=\"fa fa-arrow-circle-up\" aria-hidden=\"true\" style=\"color:#004D7F\"></i></a></font></div>\n",
    "\n",
    "---\n",
    "\n",
    "<div style=\"text-align: right\"> <font size=6><i class=\"fa fa-coffee\" aria-hidden=\"true\" style=\"color:#004D7F\"></i> </font></div>"
   ]
  }
 ],
 "metadata": {
  "kernelspec": {
   "display_name": "Python 3 (ipykernel)",
   "language": "python",
   "name": "python3"
  },
  "language_info": {
   "codemirror_mode": {
    "name": "ipython",
    "version": 3
   },
   "file_extension": ".py",
   "mimetype": "text/x-python",
   "name": "python",
   "nbconvert_exporter": "python",
   "pygments_lexer": "ipython3",
   "version": "3.9.7"
  }
 },
 "nbformat": 4,
 "nbformat_minor": 2
}
