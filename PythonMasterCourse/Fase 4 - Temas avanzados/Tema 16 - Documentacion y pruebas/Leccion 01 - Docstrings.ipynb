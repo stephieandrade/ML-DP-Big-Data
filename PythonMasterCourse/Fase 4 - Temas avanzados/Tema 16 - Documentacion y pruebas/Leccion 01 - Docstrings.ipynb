{
 "cells": [
  {
   "cell_type": "markdown",
   "metadata": {},
   "source": [
    "# Docstrings"
   ]
  },
  {
   "cell_type": "code",
   "execution_count": 2,
   "metadata": {},
   "outputs": [
    {
     "name": "stdout",
     "output_type": "stream",
     "text": [
      "Help on module mi_modulo:\n",
      "\n",
      "NAME\n",
      "    mi_modulo - Este es el docstring del modulo\n",
      "\n",
      "FUNCTIONS\n",
      "    despedir()\n",
      "        Este es el docstring de funcion despedir\n",
      "    \n",
      "    saludar()\n",
      "        Este es el docstring de funcion saludar\n",
      "\n",
      "FILE\n",
      "    c:\\users\\hp\\documents\\cursos\\python\\ficheroscursopython\\cursopython\\python_exercises\\fase 4 - temas avanzados\\tema 16 - documentacion y pruebas\\mi_modulo.py\n",
      "\n",
      "\n"
     ]
    }
   ],
   "source": [
    "import mi_modulo\n",
    "help(mi_modulo)"
   ]
  },
  {
   "cell_type": "code",
   "execution_count": 3,
   "metadata": {},
   "outputs": [
    {
     "name": "stdout",
     "output_type": "stream",
     "text": [
      "Help on package mi_paquete:\n",
      "\n",
      "NAME\n",
      "    mi_paquete - Este es el docstring de mi paquete\n",
      "\n",
      "PACKAGE CONTENTS\n",
      "    adios (package)\n",
      "    hola (package)\n",
      "\n",
      "FILE\n",
      "    c:\\users\\hp\\documents\\cursos\\python\\ficheroscursopython\\cursopython\\python_exercises\\fase 4 - temas avanzados\\tema 16 - documentacion y pruebas\\mi_paquete\\__init__.py\n",
      "\n",
      "\n"
     ]
    }
   ],
   "source": [
    "import mi_paquete\n",
    "help(mi_paquete)"
   ]
  }
 ],
 "metadata": {
  "anaconda-cloud": {},
  "kernelspec": {
   "display_name": "Python 3 (ipykernel)",
   "language": "python",
   "name": "python3"
  },
  "language_info": {
   "codemirror_mode": {
    "name": "ipython",
    "version": 3
   },
   "file_extension": ".py",
   "mimetype": "text/x-python",
   "name": "python",
   "nbconvert_exporter": "python",
   "pygments_lexer": "ipython3",
   "version": "3.9.7"
  }
 },
 "nbformat": 4,
 "nbformat_minor": 1
}
