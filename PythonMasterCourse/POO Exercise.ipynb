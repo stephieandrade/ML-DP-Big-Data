{
  "cells": [
    {
      "cell_type": "markdown",
      "metadata": {
        "id": "view-in-github",
        "colab_type": "text"
      },
      "source": [
        "<a href=\"https://colab.research.google.com/github/stephieandrade/Python_Exercises/blob/main/POO%20Exercise.ipynb\" target=\"_parent\"><img src=\"https://colab.research.google.com/assets/colab-badge.svg\" alt=\"Open In Colab\"/></a>"
      ]
    },
    {
      "cell_type": "markdown",
      "metadata": {
        "id": "gcm2E7Mb2PeY"
      },
      "source": [
        "# Tema 08 - Programacion Orientada a Objetos (Enunciados)\n",
        "*Nota: Estos ejercicios son optativos para hacer al final de la unidad y están pensados para apoyar tu aprendizaje*."
      ]
    },
    {
      "cell_type": "markdown",
      "metadata": {
        "id": "QzJ4Z8SV2Pek"
      },
      "source": [
        "**En este ejercicio vas a trabajar el concepto de puntos, coordenadas y vectores sobre el plano cartesiano y cómo la programación Orientada a Objetos puede ser una excelente aliada para trabajar con ellos. No está pensado para que hagas ningún tipo de cálculo sino para que practiques la automatización de tareas.**\n",
        "\n",
        "*Nota: Creo que es un ejemplo muy interesante, punto de partida en la programación de gráficos, pero si consideras que esto no lo tuyo puedes simplemente pasar de largo. Ahora bien, debes ser consciente de que te vas a perder uno de los ejercicios más interesantes del curso.*\n",
        "\n",
        "**Antes de continuar voy a explicar brevemente los conceptos básicos por si alguien necesita un repaso.**\n",
        "\n",
        "## El plano cartesiano\n",
        "\n",
        "Representa un espacio bidimensional (en 2 dimensiones), formado por dos rectas perpendiculares, una horizontal y otra vertical que se cortan en un punto. La recta horizontal se denomina eje de las abscisas o **eje X**, mientras que la vertical recibe el nombre de eje de las ordenadas o simplemente **eje Y**. En cuanto al punto donde se cortan, se conoce como el **punto de origen O**.\n",
        "\n",
        "<img src=\"https://docs.hektorprofe.net/cdn/ejemplos_edv/python/eje.jpg\" width=\"350\" />\n",
        "\n",
        "Es importante remarcar que el plano se divide en 4 cuadrantes:\n",
        "\n",
        "<img src=\"https://docs.hektorprofe.net/cdn/ejemplos_edv/python/cuadrante.jpg\" width=\"350\" />\n",
        "\n",
        "## Puntos y coordenadas\n",
        "\n",
        "El objetivo de todo esto es describir la posición de **puntos** sobre el plano en forma de **coordenadas**, que se forman asociando el valor del eje de las X (horizontal) con el valor del eje Y (vertical).\n",
        "\n",
        "La representación de un punto es sencilla: **P(X,Y)** dónde X y la Y son la distancia horizontal (izquierda o derecha) y vertical (arriba o abajo) respectivamente, utilizando como referencia el punto de origen (0,0), justo en el centro del plano.\n",
        "\n",
        "<img src=\"https://docs.hektorprofe.net/cdn/ejemplos_edv/python/Cartesian-coordinate-system.svg.png\" width=\"300\" />\n",
        "\n",
        "\n",
        "## Vectores en el plano\n",
        "\n",
        "Finalmente, un vector en el plano hace referencia a un segmento orientado, generado a partir de dos puntos distintos. \n",
        "\n",
        "A efectos prácticos no deja de ser una línea formada desde un punto inicial en dirección a otro punto final, por lo que se entiende que un vector tiene longitud y dirección/sentido.\n",
        "\n",
        "\n",
        "<img src=\"https://docs.hektorprofe.net/cdn/ejemplos_edv/python/vector3.png\" width=\"300\" />\n",
        "\n",
        "En esta figura, podemos observar dos puntos A y B que podríamos definir de la siguiente forma:\n",
        "* **A(x1, y1)** => **A(2, 3)**\n",
        "* **B(x2, y2)** => **B(5, 5)**\n",
        "\n",
        "Y el vector se representaría como la diferencia entre las coordendas del segundo punto respecto al primero (el segundo menos el primero):\n",
        "* **AB = (x2-x1, y2-y1)** => **(5-2, 5-3)** => **(3,2)** \n",
        "\n",
        "Lo que en definitiva no deja de ser: 3 a la derecha y 2 arriba.\n",
        "\n",
        "Y con esto finalizamos este mini repaso."
      ]
    },
    {
      "cell_type": "markdown",
      "metadata": {
        "id": "w2gfFx6q2Pem"
      },
      "source": [
        "\n",
        "# El ejercicio\n",
        "\n",
        "#### Preparación\n",
        "\n",
        "* Crea una clase llamada **Punto** con sus dos coordenadas X e Y.\n",
        "* Añade un método **constructor** para crear puntos fácilmente. Si no se reciben una coordenada, su valor será cero.\n",
        "* Sobreescribe el método **string**, para que al imprimir por pantalla un punto aparezca en formato (X,Y)\n",
        "* Añade un método llamado **cuadrante** que indique a qué cuadrante pertenece el punto, o si es el origen.\n",
        "* Añade un método llamado **vector**, que tome otro punto y calcule el vector resultante entre los dos puntos.\n",
        "* (Optativo) Añade un método llamado **distancia**, que tome otro punto y calcule la distancia entre los dos puntos y la muestre por pantalla. La fórmula es la siguiente:\n",
        "\n",
        "<img src=\"https://docs.hektorprofe.net/cdn/ejemplos_edv/python/distancia.png\" width=\"250\" />\n",
        "\n",
        "*Nota: La función raíz cuadrada en Python sqrt() se debe importar del módulo math y utilizarla de la siguiente forma:*\n",
        "```python\n",
        "import math\n",
        "math.sqrt(9)\n",
        "> 3.0\n",
        "```\n",
        "\n",
        "* Crea una clase llamada **Rectangulo** con dos puntos (inicial y final) que formarán la diagonal del rectángulo.\n",
        "* Añade un método **constructor** para crear ambos puntos fácilmente, si no se envían se crearán dos puntos en el origen por defecto.\n",
        "* Añade al rectángulo un método llamado **base** que muestre la base.\n",
        "* Añade al rectángulo un método llamado **altura** que muestre la altura.\n",
        "* Añade al rectángulo un método llamado **area** que muestre el area.\n",
        "\n",
        "*Puedes identificar fácilmente estos valores si intentas dibujar el cuadrado a partir de su  diagonal. Si andas perdido, prueba de dibujarlo en un papel, ¡seguro que lo verás mucho más claro! Además recuerda que puedes utilizar la función **abs()** para saber el valor absolute de un número.*\n",
        "\n",
        "#### Experimentación\n",
        "* Crea los puntos A(2, 3),  B(5,5), C(-3, -1) y D(0,0) e imprimelos por pantalla.\n",
        "* Consulta a que cuadrante pertenecen el punto A, C y D.\n",
        "* Consulta los vectores AB y BA.\n",
        "* (Optativo) Consulta la distancia entre los puntos 'A y B' y 'B y A'. \n",
        "* (Optativo) Determina cual de los 3 puntos A, B o C, se encuentra más lejos del origen, punto (0,0). \n",
        "* Crea un rectángulo utilizando los puntos A y B.\n",
        "* Consulta la base, altura y área del rectángulo."
      ]
    },
    {
      "cell_type": "code",
      "execution_count": 37,
      "metadata": {
        "id": "a1qdyh5m2Pep"
      },
      "outputs": [],
      "source": [
        "import math\n",
        "\n",
        "class Punto:\n",
        "  def __init__(self,x=0,y=0):\n",
        "    self.x = x\n",
        "    self.y = y\n",
        "\n",
        "  def __str__(self):\n",
        "    print(\"({},{})\".format(self.x, self.y))\n",
        "\n",
        "  def cuadrante(self):\n",
        "    if self.x>0 and self.y>0:\n",
        "      print(\"Cuadrante 1\")\n",
        "    elif self.x<0 and self.y>0:\n",
        "      print(\"Cuadrante 2\")\n",
        "    elif self.x<0 and self.y<0:\n",
        "      print(\"Cuadrante 3\")\n",
        "    elif self.x>0 and self.y<0:\n",
        "      print(\"Cuadrante 4\")\n",
        "\n",
        "  def vector(self, d=0, f=0):\n",
        "    v1 = self.x - d\n",
        "    v2 = self.y - f\n",
        "    print(\"El nuevo vector es ({},{})\".format(v1, v2))\n",
        "  \n",
        "  def distancia(self, d=0, f=0):\n",
        "    d = math.sqrt((d-self.x)^2 + (f-self.y)^2)\n",
        "    print(\"La distancia es {}\".format(d))\n",
        "\n",
        "class Rectangulo:\n",
        "  def __init__(self, i=Punto(), f=Punto()):\n",
        "    self.i = i\n",
        "    self.f = f\n",
        "  \n",
        "  def base(self):\n",
        "    self.base = abs(self.i.x - self.f.x)\n",
        "    print(\"La base es  {}\".format(self.base))\n",
        "  \n",
        "  def altura(self):\n",
        "    self.altura = abs(self.i.y - self.f.y)\n",
        "    print(\"La altura es {}\".format(self.altura))\n",
        "\n",
        "  def area(self):\n",
        "    self.area = self.altura * self.base\n",
        "    print(\"La area es de {}\".format(self.area))\n",
        "\n",
        "\n",
        "\n",
        "\n",
        "\n",
        "\n",
        "\n",
        "\n"
      ]
    },
    {
      "cell_type": "markdown",
      "source": [
        "* Crea los puntos A(2, 3),  B(5,5), C(-3, -1) y D(0,0) e imprimelos por pantalla.\n"
      ],
      "metadata": {
        "id": "ljmd_kuIMjwJ"
      }
    },
    {
      "cell_type": "code",
      "source": [
        "pa = Punto(2,3)\n",
        "pb = Punto(5,5)\n",
        "pc = Punto(-3,-1)\n",
        "pd = Punto(0,0)\n",
        "\n",
        "print(\"Punto A: ({},{})\".format(pa.x, pa.y))\n",
        "print(\"Punto B: ({},{})\".format(pb.x, pb.y))\n",
        "print(\"Punto C: ({},{})\".format(pc.x, pc.y))\n",
        "print(\"Punto D: ({},{})\".format(pd.x, pd.y))\n",
        "\n",
        "\n"
      ],
      "metadata": {
        "colab": {
          "base_uri": "https://localhost:8080/"
        },
        "id": "WoU756U-Mwt8",
        "outputId": "4a5e82b5-3454-4e25-e383-60e28652a1b3"
      },
      "execution_count": 20,
      "outputs": [
        {
          "output_type": "stream",
          "name": "stdout",
          "text": [
            "Punto A: (2,3)\n",
            "Punto B: (5,5)\n",
            "Punto C: (-3,-1)\n",
            "Punto D: (0,0)\n"
          ]
        }
      ]
    },
    {
      "cell_type": "markdown",
      "source": [
        "* Consulta los vectores AB y BA.\n"
      ],
      "metadata": {
        "id": "QKI3DjXkMnWo"
      }
    },
    {
      "cell_type": "code",
      "source": [
        "pa.vector(pb.x, pb.y)"
      ],
      "metadata": {
        "colab": {
          "base_uri": "https://localhost:8080/"
        },
        "id": "ftuK7YapNZE5",
        "outputId": "a254556d-29d2-4290-b02c-0ab93d5de36e"
      },
      "execution_count": 21,
      "outputs": [
        {
          "output_type": "stream",
          "name": "stdout",
          "text": [
            "El nuevo vector es (-3,-2)\n"
          ]
        }
      ]
    },
    {
      "cell_type": "code",
      "source": [
        "pb.vector(pa.x, pa.y)"
      ],
      "metadata": {
        "colab": {
          "base_uri": "https://localhost:8080/"
        },
        "id": "YSktA3IJNcvk",
        "outputId": "fb5533e8-1528-43fa-b458-beb2b00be096"
      },
      "execution_count": 22,
      "outputs": [
        {
          "output_type": "stream",
          "name": "stdout",
          "text": [
            "El nuevo vector es (3,2)\n"
          ]
        }
      ]
    },
    {
      "cell_type": "markdown",
      "source": [
        "* (Optativo) Consulta la distancia entre los puntos 'A y B' \n"
      ],
      "metadata": {
        "id": "k43tMn0cMnZX"
      }
    },
    {
      "cell_type": "code",
      "source": [
        "pa.distancia(pb.x, pb.y)"
      ],
      "metadata": {
        "colab": {
          "base_uri": "https://localhost:8080/"
        },
        "id": "UbbgHUqtNm43",
        "outputId": "0c3733a7-3bf6-46d5-af61-1391d19891cd"
      },
      "execution_count": 23,
      "outputs": [
        {
          "output_type": "stream",
          "name": "stdout",
          "text": [
            "La distancia es 2.23606797749979\n"
          ]
        }
      ]
    },
    {
      "cell_type": "markdown",
      "source": [
        "* (Optativo) Determina cual de los 3 puntos A, B o C, se encuentra más lejos del origen, punto (0,0)."
      ],
      "metadata": {
        "id": "7NoYBDFdNlre"
      }
    },
    {
      "cell_type": "code",
      "source": [
        "pa.distancia()\n",
        "pb.distancia()\n",
        "pc.distancia()"
      ],
      "metadata": {
        "colab": {
          "base_uri": "https://localhost:8080/"
        },
        "id": "g9-iuaqMOqqW",
        "outputId": "4fbe0cd0-335f-4df2-ae4d-365c6b13aa23"
      },
      "execution_count": 36,
      "outputs": [
        {
          "output_type": "stream",
          "name": "stdout",
          "text": [
            "La distancia es 1.7320508075688772\n",
            "La distancia es 2.0\n",
            "La distancia es 1.4142135623730951\n"
          ]
        }
      ]
    },
    {
      "cell_type": "markdown",
      "source": [
        "* Crea un rectángulo utilizando los puntos A y B.\n",
        "* Consulta la base, altura y área del rectángulo."
      ],
      "metadata": {
        "id": "aXRRmprXP4lv"
      }
    },
    {
      "cell_type": "code",
      "source": [
        "r = Rectangulo(pa, pb)\n",
        "r.base()\n",
        "r.altura()\n",
        "r.area()"
      ],
      "metadata": {
        "colab": {
          "base_uri": "https://localhost:8080/"
        },
        "id": "0zxeqEfZP-EM",
        "outputId": "0d07deda-2588-4522-da90-a285540df491"
      },
      "execution_count": 39,
      "outputs": [
        {
          "output_type": "stream",
          "name": "stdout",
          "text": [
            "La base es  3\n",
            "La altura es 2\n",
            "La area es de 6\n"
          ]
        }
      ]
    }
  ],
  "metadata": {
    "anaconda-cloud": {},
    "kernelspec": {
      "display_name": "Python [default]",
      "language": "python",
      "name": "python3"
    },
    "language_info": {
      "codemirror_mode": {
        "name": "ipython",
        "version": 3
      },
      "file_extension": ".py",
      "mimetype": "text/x-python",
      "name": "python",
      "nbconvert_exporter": "python",
      "pygments_lexer": "ipython3",
      "version": "3.5.2"
    },
    "colab": {
      "name": "Enunciados.ipynb",
      "provenance": [],
      "include_colab_link": true
    }
  },
  "nbformat": 4,
  "nbformat_minor": 0
}