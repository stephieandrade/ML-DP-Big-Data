{
  "cells": [
    {
      "cell_type": "markdown",
      "metadata": {
        "id": "view-in-github",
        "colab_type": "text"
      },
      "source": [
        "<a href=\"https://colab.research.google.com/github/stephieandrade/Python_Exercises/blob/main/Excercises4.ipynb\" target=\"_parent\"><img src=\"https://colab.research.google.com/assets/colab-badge.svg\" alt=\"Open In Colab\"/></a>"
      ]
    },
    {
      "cell_type": "markdown",
      "metadata": {
        "id": "o00qNX5a6HkJ"
      },
      "source": [
        "# Tema 06: Programación de funciones (Enunciados)\n",
        "*Nota: Estos ejercicios son optativos para hacer al final de la unidad y están pensados para apoyar tu aprendizaje*."
      ]
    },
    {
      "cell_type": "markdown",
      "metadata": {
        "id": "PWWq9xun6HkM"
      },
      "source": [
        "**1) Realiza una función llamada area_rectangulo() que devuelva el área del rectangulo a partir de una base y una altura. Calcula el área de un rectángulo de 15 de base y 10 de altura.**\n",
        "\n",
        "*Nota: El área de un rectángulo se obtiene al multiplicar la base por la altura.*"
      ]
    },
    {
      "cell_type": "code",
      "execution_count": 1,
      "metadata": {
        "colab": {
          "base_uri": "https://localhost:8080/"
        },
        "id": "iubIQ3ry6HkN",
        "outputId": "deeca6e4-55eb-41f2-b347-f9d3802860f4"
      },
      "outputs": [
        {
          "output_type": "execute_result",
          "data": {
            "text/plain": [
              "150"
            ]
          },
          "metadata": {},
          "execution_count": 1
        }
      ],
      "source": [
        "def area(base, altura):\n",
        "  return base*altura\n",
        "\n",
        "area(15, 10)\n"
      ]
    },
    {
      "cell_type": "markdown",
      "metadata": {
        "id": "mGsiWzJ96HkO"
      },
      "source": [
        "**2) Realiza una función llamada area_circulo() que devuelva el área de un círculo a partir de un radio. Calcula el área de un círculo de 5 de radio: **\n",
        "\n",
        "Nota: El área de un círculo se obtiene al elevar el radio a dos y multiplicando el resultado por el número pi. Puedes utilizar el valor 3.14159 como pi o importarlo del módulo math:\n",
        "```python\n",
        "import math\n",
        "print(math.pi)\n",
        "> 3.1415...\n",
        "```"
      ]
    },
    {
      "cell_type": "code",
      "execution_count": 4,
      "metadata": {
        "colab": {
          "base_uri": "https://localhost:8080/"
        },
        "id": "f_GnhgBZ6HkP",
        "outputId": "57691906-c361-49bf-c705-d689dadf3075"
      },
      "outputs": [
        {
          "output_type": "execute_result",
          "data": {
            "text/plain": [
              "31.41592653589793"
            ]
          },
          "metadata": {},
          "execution_count": 4
        }
      ],
      "source": [
        "import math\n",
        "def area_circulo(radio):\n",
        "  return(radio*2* math.pi)\n",
        "\n",
        "area_circulo(5)\n"
      ]
    },
    {
      "cell_type": "markdown",
      "metadata": {
        "id": "9J__8DuH6HkP"
      },
      "source": [
        "**3) Realiza una función llamada relacion() que a partir de dos números cumpla lo siguiente**:\n",
        "\n",
        "* Si el primer número es mayor que el segundo, debe devolver 1.\n",
        "* Si el primer número es menor que el segundo, debe devolver -1.\n",
        "* Si ambos números son iguales, debe devolver un 0.\n",
        "\n",
        "** Comprueba la relación entre los números: '5 y 10', '10 y 5' y '5 y 5'**"
      ]
    },
    {
      "cell_type": "code",
      "execution_count": 8,
      "metadata": {
        "colab": {
          "base_uri": "https://localhost:8080/"
        },
        "id": "kFbO_Lz06HkQ",
        "outputId": "920e7607-fb47-4851-87e4-3f5d703d25f1"
      },
      "outputs": [
        {
          "output_type": "execute_result",
          "data": {
            "text/plain": [
              "-1"
            ]
          },
          "metadata": {},
          "execution_count": 8
        }
      ],
      "source": [
        "def relacion(n1, n2):\n",
        "  if n1>n2:\n",
        "    return 1\n",
        "  elif n2>n1:\n",
        "    return -1\n",
        "  elif n1==n2:\n",
        "   return 0\n",
        "\n",
        "relacion(5, 10)\n"
      ]
    },
    {
      "cell_type": "markdown",
      "metadata": {
        "id": "kdDFMqHz6HkR"
      },
      "source": [
        "**4) Realiza una función llamada intermedio() que a partir de dos números, devuelva su punto intermedio:**\n",
        "\n",
        "*Nota: El número intermedio de dos números corresponde a la suma de los dos números dividida entre 2*\n",
        "\n",
        "** Comprueba el punto intermedio entre -12 y 24**"
      ]
    },
    {
      "cell_type": "code",
      "execution_count": 10,
      "metadata": {
        "colab": {
          "base_uri": "https://localhost:8080/"
        },
        "id": "yzIu1Dwx6HkR",
        "outputId": "0973abbd-469a-4eb2-bf20-d4f5367587dc"
      },
      "outputs": [
        {
          "output_type": "execute_result",
          "data": {
            "text/plain": [
              "0"
            ]
          },
          "metadata": {},
          "execution_count": 10
        }
      ],
      "source": [
        "def intermedio(n1, n2):\n",
        "  return(round(n1/n2))\n",
        "\n",
        "intermedio(-12,24)\n"
      ]
    },
    {
      "cell_type": "markdown",
      "metadata": {
        "id": "HKxmo5Cg6HkS"
      },
      "source": [
        "**5) Realiza una función llamada recortar() que reciba tres parámetros. El primero es el número a recortar, el segundo es el límite inferior y el tercero el límite superior. La función tendrá que cumplir lo siguiente:**\n",
        "\n",
        "* Devolver el límite inferior si el número es menor que éste\n",
        "* Devolver el límite superior si el número es mayor que éste.\n",
        "* Devolver el número sin cambios si no se supera ningún límite.\n",
        "\n",
        "** Comprueba el resultado de recortar 15 entre los límites 0 y 10**"
      ]
    },
    {
      "cell_type": "code",
      "execution_count": 17,
      "metadata": {
        "colab": {
          "base_uri": "https://localhost:8080/"
        },
        "id": "Py3gmIvI6HkT",
        "outputId": "da9b6ef9-bfa4-4cae-c486-4463253e0220"
      },
      "outputs": [
        {
          "output_type": "execute_result",
          "data": {
            "text/plain": [
              "15"
            ]
          },
          "metadata": {},
          "execution_count": 17
        }
      ],
      "source": [
        "def recortar(n1, n2, n3):\n",
        "  if (n2>n1):\n",
        "    return n2\n",
        "  elif(n3>n1):\n",
        "    return n3\n",
        "  return n1\n",
        "\n",
        "recortar(15, 0, 10)\n"
      ]
    },
    {
      "cell_type": "markdown",
      "metadata": {
        "id": "2T6r9KRO6HkT"
      },
      "source": [
        "**6) Realiza una función separar() que tome una lista de números enteros y devuelva dos listas ordenadas. La primera con los números pares, y la segunda con los números impares:**\n",
        "\n",
        "Por ejemplo: \n",
        "\n",
        "```python\n",
        "pares, impares = separar([6,5,2,1,7])\n",
        "print(pares)   # valdría [2, 6]\n",
        "print(impares)  # valdría [1, 5, 7]\n",
        "\n",
        "```\n",
        "\n",
        "*Nota: Para ordenar una lista automáticamente puedes usar el método .sort().*"
      ]
    },
    {
      "cell_type": "code",
      "execution_count": 20,
      "metadata": {
        "colab": {
          "base_uri": "https://localhost:8080/"
        },
        "id": "29ANeT7L6HkT",
        "outputId": "4d9723b4-1b71-451f-e7e0-54766a000055"
      },
      "outputs": [
        {
          "output_type": "stream",
          "name": "stdout",
          "text": [
            "[-33, 9, 13, 101]\n",
            "[-12, 20, 84]\n"
          ]
        }
      ],
      "source": [
        "numeros = [-12, 84, 13, 20, -33, 101, 9]\n",
        "\n",
        "def separar(lista):\n",
        "  lista.sort()\n",
        "  lista_pares = []\n",
        "  lista_impares = []\n",
        "\n",
        "  for n in lista:\n",
        "    if n % 2 == 0:\n",
        "      lista_pares.append(n)\n",
        "    else:\n",
        "      lista_impares.append(n)\n",
        "  return lista_impares, lista_pares\n",
        "\n",
        "impar, par = separar(numeros)\n",
        "\n",
        "print(impar)\n",
        "print(par)\n",
        "\n",
        "\n"
      ]
    }
  ],
  "metadata": {
    "anaconda-cloud": {},
    "kernelspec": {
      "display_name": "Python [default]",
      "language": "python",
      "name": "python3"
    },
    "language_info": {
      "codemirror_mode": {
        "name": "ipython",
        "version": 3
      },
      "file_extension": ".py",
      "mimetype": "text/x-python",
      "name": "python",
      "nbconvert_exporter": "python",
      "pygments_lexer": "ipython3",
      "version": "3.5.2"
    },
    "colab": {
      "name": "Enunciados.ipynb",
      "provenance": [],
      "include_colab_link": true
    }
  },
  "nbformat": 4,
  "nbformat_minor": 0
}