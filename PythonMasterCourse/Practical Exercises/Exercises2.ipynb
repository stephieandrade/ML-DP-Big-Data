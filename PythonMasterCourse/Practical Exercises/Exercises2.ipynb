{
  "cells": [
    {
      "cell_type": "markdown",
      "metadata": {
        "id": "view-in-github",
        "colab_type": "text"
      },
      "source": [
        "<a href=\"https://colab.research.google.com/github/stephieandrade/Python_Exercises/blob/main/Exercises2.ipynb\" target=\"_parent\"><img src=\"https://colab.research.google.com/assets/colab-badge.svg\" alt=\"Open In Colab\"/></a>"
      ]
    },
    {
      "cell_type": "markdown",
      "metadata": {
        "id": "dHYCv1bkPpBq"
      },
      "source": [
        "# Tema 04: Colecciones de datos (Enunciados)\n",
        "*Nota: Estos ejercicios son optativos para hacer al final de la unidad y están pensados para apoyar tu aprendizaje*."
      ]
    },
    {
      "cell_type": "markdown",
      "metadata": {
        "id": "Bd22DaxCPpBy"
      },
      "source": [
        "**1) Realiza un programa que siga las siguientes instrucciones:**\n",
        "* Crea un conjunto llamado usuarios con los usuarios Marta, David, Elvira, Juan y Marcos\n",
        "* Crea un conjunto llamado administradores con los administradores Juan y Marta.\n",
        "* Borra al administrador Juan del conjunto de administradores.\n",
        "* Añade a Marcos como un nuevo administrador, pero no lo borres del conjunto de usuarios.\n",
        "* Muestra todos los usuarios por pantalla de forma dinámica, además debes indicar cada usuario es administrador o no.\n",
        "\n",
        "*Notas: Los conjuntos se pueden recorrer dinámicamente utilizando el bucle for de forma similar a una lista. También cuentan con un método llamado **.discard(elemento)** que sirve para borrar un elemento.* "
      ]
    },
    {
      "cell_type": "code",
      "execution_count": 14,
      "metadata": {
        "colab": {
          "base_uri": "https://localhost:8080/"
        },
        "id": "NzgmZ6gEPpB1",
        "outputId": "c46822eb-8b0e-4827-c9ec-2e830526b249"
      },
      "outputs": [
        {
          "output_type": "stream",
          "name": "stdout",
          "text": [
            "Administrador: Marcos\n",
            "Administrador: Marta\n",
            "Usuario: Juan\n",
            "Usuario: David\n",
            "Usuario: Elvira\n"
          ]
        }
      ],
      "source": [
        "usuarios = {\"Marta\", \"David\", \"Elvira\", \"Juan\", \"Marcos\"}\n",
        "administradores = {\"Juan\", \"Marta\"}\n",
        "administradores.remove(\"Juan\")\n",
        "administradores.add(\"Marcos\")\n",
        "for i in administradores: \n",
        "  print(\"Administrador: \" + i)\n",
        "for i in usuarios:\n",
        "    if i not in administradores:\n",
        "     print(\"Usuario: \" + i)\n"
      ]
    },
    {
      "cell_type": "markdown",
      "metadata": {
        "id": "imwHKY4WPpB3"
      },
      "source": [
        "**2) Durante el desarrollo de un pequeño videojuego se te encarga configurar y balancear cada clase de personaje jugable. Partiendo que la estadística base es 2, debes cumplir las siguientes condiciones: **\n",
        "* El caballero tiene el doble de vida y defensa que un guerrero.\n",
        "* El guerrero tiene el doble de ataque y alcance que un caballero.\n",
        "* El arquero tiene la misma vida y ataque que un guerrero, pero la mitad de su defensa y el doble de su alcance.\n",
        "* Muestra como quedan las propiedades de los tres personajes."
      ]
    },
    {
      "cell_type": "code",
      "execution_count": 30,
      "metadata": {
        "colab": {
          "base_uri": "https://localhost:8080/"
        },
        "id": "mvrOsL0nPpB4",
        "outputId": "45878fa9-058c-492a-ab27-2e91d88f2860"
      },
      "outputs": [
        {
          "output_type": "stream",
          "name": "stdout",
          "text": [
            "Caballero:  {'vida': 4, 'ataque': 2, 'defensa': 4, 'alcance': 2} \n",
            "Guerrero:  {'vida': 2, 'ataque': 4, 'defensa': 2, 'alcance': 4}  \n",
            "Arquero: {'vida': 2, 'ataque': 4, 'defensa': 1.0, 'alcance': 4}\n"
          ]
        }
      ],
      "source": [
        "caballero = { 'vida':2, 'ataque':2, 'defensa': 2, 'alcance':2 }\n",
        "guerrero  = { 'vida':2, 'ataque':2, 'defensa': 2, 'alcance':2 }\n",
        "arquero   = { 'vida':2, 'ataque':2, 'defensa': 2, 'alcance':2 }\n",
        "\n",
        "caballero['vida'] = guerrero['vida'] * 2\n",
        "caballero['defensa'] = guerrero['defensa'] * 2\n",
        "guerrero['ataque'] = caballero['ataque'] * 2\n",
        "guerrero['alcance'] = caballero['alcance'] * 2\n",
        "arquero['vida'] = guerrero['vida']\n",
        "arquero['ataque'] = guerrero['ataque']\n",
        "arquero['defensa'] = guerrero['defensa']/ 2\n",
        "arquero['alcance'] = caballero['alcance'] * 2\n",
        "\n",
        "print(\"Caballero: \", caballero,'\\nGuerrero: ', guerrero, \" \\nArquero:\", arquero)\n"
      ]
    },
    {
      "cell_type": "markdown",
      "metadata": {
        "id": "kMHYVPkXPpB6"
      },
      "source": [
        "**3) Durante la planificación de un proyecto se han acordado una lista de tareas. Para cada una de estas tareas se ha asignado un orden de prioridad (cuanto menor es el número de orden, más prioridad).**\n",
        "\n",
        "**¿Eres capaz de crear una estructura del tipo cola con todas las tareas ordenadas pero sin los números de orden?**\n",
        "\n",
        "Pista: Para ordenar automáticamente una lista es posible utilizar el método .sort()."
      ]
    },
    {
      "cell_type": "code",
      "execution_count": 47,
      "metadata": {
        "colab": {
          "base_uri": "https://localhost:8080/"
        },
        "id": "bcDwBmd9PpB7",
        "outputId": "01e51a67-7207-4a37-e60a-d070c1943c43"
      },
      "outputs": [
        {
          "output_type": "stream",
          "name": "stdout",
          "text": [
            "==Tareas desordenadas==\n",
            "6 Distribución\n",
            "2 Diseño\n",
            "1 Concepción\n",
            "7 Mantenimiento\n",
            "4 Producción\n",
            "3 Planificación\n",
            "5 Pruebas\n",
            "==Tareas ordenadas==\n",
            "Mantenimiento\n",
            "Distribución\n",
            "Pruebas\n",
            "Producción\n",
            "Planificación\n",
            "Diseño\n",
            "Concepción\n"
          ]
        }
      ],
      "source": [
        "tareas = [ \n",
        "    [6, 'Distribución'],\n",
        "    [2, 'Diseño'],\n",
        "    [1, 'Concepción'],\n",
        "    [7, 'Mantenimiento'],\n",
        "    [4, 'Producción'],\n",
        "    [3, 'Planificación'],\n",
        "    [5, 'Pruebas']\n",
        "]\n",
        "\n",
        "print(\"==Tareas desordenadas==\")\n",
        "for tarea in tareas:\n",
        "    print(tarea[0], tarea[1])\n",
        "from collections import deque\n",
        "\n",
        "tareas.sort(reverse=True)\n",
        "ordenada = deque()\n",
        "print(\"==Tareas ordenadas==\")\n",
        "for tarea in tareas:\n",
        "  ordenada.append(tarea[1])\n",
        "\n",
        "for tarea in ordenada:\n",
        "  print(tarea)\n"
      ]
    },
    {
      "cell_type": "code",
      "source": [
        ""
      ],
      "metadata": {
        "id": "l6Mo6eLPgTC4"
      },
      "execution_count": null,
      "outputs": []
    }
  ],
  "metadata": {
    "anaconda-cloud": {},
    "kernelspec": {
      "display_name": "Python [default]",
      "language": "python",
      "name": "python3"
    },
    "language_info": {
      "codemirror_mode": {
        "name": "ipython",
        "version": 3
      },
      "file_extension": ".py",
      "mimetype": "text/x-python",
      "name": "python",
      "nbconvert_exporter": "python",
      "pygments_lexer": "ipython3",
      "version": "3.5.2"
    },
    "colab": {
      "name": "Enunciados.ipynb",
      "provenance": [],
      "include_colab_link": true
    }
  },
  "nbformat": 4,
  "nbformat_minor": 0
}