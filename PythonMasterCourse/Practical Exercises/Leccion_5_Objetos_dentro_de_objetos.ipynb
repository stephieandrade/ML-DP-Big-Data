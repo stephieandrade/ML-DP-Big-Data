{
  "cells": [
    {
      "cell_type": "markdown",
      "metadata": {
        "id": "view-in-github",
        "colab_type": "text"
      },
      "source": [
        "<a href=\"https://colab.research.google.com/github/stephieandrade/Python_Exercises/blob/main/Leccion_5_Objetos_dentro_de_objetos.ipynb\" target=\"_parent\"><img src=\"https://colab.research.google.com/assets/colab-badge.svg\" alt=\"Open In Colab\"/></a>"
      ]
    },
    {
      "cell_type": "code",
      "execution_count": 2,
      "metadata": {
        "collapsed": true,
        "id": "sIFdQF7QzPQe"
      },
      "outputs": [],
      "source": [
        "class Pelicula:\n",
        "    \n",
        "    # Constructor de clase\n",
        "    def __init__(self, titulo, duracion, lanzamiento):\n",
        "        self.titulo = titulo\n",
        "        self.duracion = duracion\n",
        "        self.lanzamiento = lanzamiento\n",
        "        print('Se ha creado la película:',self.titulo)\n",
        "        \n",
        "    def __str__(self):\n",
        "        return '{} ({})'.format(self.titulo, self.lanzamiento)"
      ]
    },
    {
      "cell_type": "code",
      "execution_count": 9,
      "metadata": {
        "collapsed": true,
        "id": "Ma5g9B47zPQl"
      },
      "outputs": [],
      "source": [
        "class Catalogo:\n",
        "  def __init__(self, peliculas=[]):\n",
        "    self.peliculas = peliculas\n",
        "\n",
        "  def agregar(self, p):\n",
        "    self.peliculas.append(p)\n",
        "\n",
        "  def mostrar(self):\n",
        "    for p in self.peliculas:\n",
        "      print(p.titulo)\n",
        "\n",
        "\n"
      ]
    },
    {
      "cell_type": "code",
      "source": [
        "p = Pelicula(\"El padrino\", 175, 1992)\n",
        "c = Catalogo([p])\n",
        "c.mostrar()"
      ],
      "metadata": {
        "colab": {
          "base_uri": "https://localhost:8080/"
        },
        "id": "5qVqlRcNz-TD",
        "outputId": "9f851d52-793d-4175-a188-0c6236bace2d"
      },
      "execution_count": 11,
      "outputs": [
        {
          "output_type": "stream",
          "name": "stdout",
          "text": [
            "Se ha creado la película: El padrino\n",
            "El padrino\n"
          ]
        }
      ]
    }
  ],
  "metadata": {
    "kernelspec": {
      "display_name": "Python 3",
      "language": "python",
      "name": "python3"
    },
    "language_info": {
      "codemirror_mode": {
        "name": "ipython",
        "version": 3
      },
      "file_extension": ".py",
      "mimetype": "text/x-python",
      "name": "python",
      "nbconvert_exporter": "python",
      "pygments_lexer": "ipython3",
      "version": "3.5.1"
    },
    "colab": {
      "name": "Leccion 5 - Objetos dentro de objetos.ipynb",
      "provenance": [],
      "include_colab_link": true
    }
  },
  "nbformat": 4,
  "nbformat_minor": 0
}