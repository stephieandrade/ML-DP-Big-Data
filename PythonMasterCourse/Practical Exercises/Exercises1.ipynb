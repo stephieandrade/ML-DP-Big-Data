{
  "cells": [
    {
      "cell_type": "markdown",
      "metadata": {
        "id": "view-in-github",
        "colab_type": "text"
      },
      "source": [
        "<a href=\"https://colab.research.google.com/github/stephieandrade/Python_Exercises/blob/main/Exercises1.ipynb\" target=\"_parent\"><img src=\"https://colab.research.google.com/assets/colab-badge.svg\" alt=\"Open In Colab\"/></a>"
      ]
    },
    {
      "cell_type": "markdown",
      "metadata": {
        "id": "ju2w__UIiD9d"
      },
      "source": [
        "# Tema 03: Control de flujo (Enunciados)\n",
        "*Nota: Estos ejercicios son optativos para hacer al final de la unidad y están pensados para apoyar tu aprendizaje*."
      ]
    },
    {
      "cell_type": "markdown",
      "metadata": {
        "id": "hOb7z7AsiD9i"
      },
      "source": [
        "**1) Realiza un programa que lea dos números por teclado y permita elegir entre 3 opciones en un menú:** \n",
        "* Mostrar una suma de los dos números\n",
        "* Mostrar una resta de los dos números (el primero menos el segundo)\n",
        "* Mostrar una multiplicación de los dos números\n",
        "* En caso de no introducir una opción válida, el programa informará de que no es correcta."
      ]
    },
    {
      "cell_type": "code",
      "execution_count": 25,
      "metadata": {
        "colab": {
          "base_uri": "https://localhost:8080/"
        },
        "id": "DSAhoslUiD9i",
        "outputId": "c33908be-aca7-4779-a45f-f3f2da59a11d"
      },
      "outputs": [
        {
          "output_type": "stream",
          "name": "stdout",
          "text": [
            "Introduce un número: 2\n",
            "Introduce otro número: 2\n",
            "¿Qué quieres hacer? \n",
            "1) Sumar los dos números\n",
            "2) Restar los dos números\n",
            "3) Multiplicar los dos números\n",
            "Introduce un número: 3\n",
            "El producto de 2.0 * 2.0 es 4.0\n"
          ]
        }
      ],
      "source": [
        "# Completa el ejercicio aquí\n",
        "n1 = float(input(\"Introduce un número: \") )\n",
        "n2 = float(input(\"Introduce otro número: \") )\n",
        "opcion = 0\n",
        "           \n",
        "print(\"¿Qué quieres hacer? \\n1) Sumar los dos números\\n2) Restar los dos números\\n3) Multiplicar los dos números\")\n",
        "opcion = int(input(\"Introduce un número: \") )     \n",
        "\n",
        "if opcion == 1:\n",
        "    print(\"La suma de\",n1,\"+\",n2,\"es\",n1+n2)\n",
        "elif opcion == 2:\n",
        "    print(\"La resta de\",n1,\"-\",n2,\"es\",n1-n2)\n",
        "elif opcion == 3:\n",
        "    print(\"El producto de\",n1,\"*\",n2,\"es\",n1*n2)\n",
        "else:\n",
        "    print(\"Opción incorrecta\")\n"
      ]
    },
    {
      "cell_type": "markdown",
      "metadata": {
        "id": "s3YsNPUtiD9k"
      },
      "source": [
        "**2) Realiza un programa que lea un número impar por teclado. Si el usuario no introduce un número impar, debe repetise el proceso hasta que lo introduzca correctamente.**"
      ]
    },
    {
      "cell_type": "code",
      "execution_count": 1,
      "metadata": {
        "colab": {
          "base_uri": "https://localhost:8080/"
        },
        "id": "VqUlRs38iD9k",
        "outputId": "9586b25a-f374-4a2c-958a-3acad988bdaf"
      },
      "outputs": [
        {
          "name": "stdout",
          "output_type": "stream",
          "text": [
            "3\n"
          ]
        }
      ],
      "source": [
        "numero = int(input())\n",
        "\n",
        "while(numero % 2 == 0):\n",
        "  numero = int(input())"
      ]
    },
    {
      "cell_type": "markdown",
      "metadata": {
        "id": "ZzbReiIEiD9l"
      },
      "source": [
        "**3) Realiza un programa que sume todos los números enteros pares desde el 0 hasta el 100:**\n",
        "\n",
        "*Sugerencia: Puedes utilizar la funciones sum() y range() para hacerlo más fácil. El tercer parámetro en la función range(inicio, fin, salto) indica un salto de números, pruébalo.*"
      ]
    },
    {
      "cell_type": "code",
      "execution_count": 2,
      "metadata": {
        "colab": {
          "base_uri": "https://localhost:8080/"
        },
        "id": "-ZgGfTfBiD9l",
        "outputId": "a0ab9767-c8ef-46ba-802e-feebac0d2cfd"
      },
      "outputs": [
        {
          "output_type": "stream",
          "name": "stdout",
          "text": [
            "0\n",
            "2\n",
            "4\n",
            "6\n",
            "8\n",
            "10\n",
            "12\n",
            "14\n",
            "16\n",
            "18\n",
            "20\n",
            "22\n",
            "24\n",
            "26\n",
            "28\n",
            "30\n",
            "32\n",
            "34\n",
            "36\n",
            "38\n",
            "40\n",
            "42\n",
            "44\n",
            "46\n",
            "48\n",
            "50\n",
            "52\n",
            "54\n",
            "56\n",
            "58\n",
            "60\n",
            "62\n",
            "64\n",
            "66\n",
            "68\n",
            "70\n",
            "72\n",
            "74\n",
            "76\n",
            "78\n",
            "80\n",
            "82\n",
            "84\n",
            "86\n",
            "88\n",
            "90\n",
            "92\n",
            "94\n",
            "96\n",
            "98\n"
          ]
        }
      ],
      "source": [
        "for i in range(100):\n",
        "  if(i % 2 ==0):\n",
        "    print(i)"
      ]
    },
    {
      "cell_type": "markdown",
      "metadata": {
        "id": "bVzwn-EJiD9m"
      },
      "source": [
        "**4) Realiza un programa que pida al usuario cuantos números quiere introducir. Luego lee todos los números y realiza una media aritmética:**\n"
      ]
    },
    {
      "cell_type": "code",
      "execution_count": 12,
      "metadata": {
        "colab": {
          "base_uri": "https://localhost:8080/"
        },
        "id": "3-pRiEJ_iD9n",
        "outputId": "b39313f1-3f7b-4d13-d468-50ca032d60d6"
      },
      "outputs": [
        {
          "output_type": "stream",
          "name": "stdout",
          "text": [
            "2\n",
            "numero a insertar\n",
            "1\n",
            "numero a insertar\n",
            "1\n",
            "0.5\n"
          ]
        }
      ],
      "source": [
        "lista = []\n",
        "cantidadNumeros = int(input())\n",
        "numeros = 0\n",
        "for i in range(cantidadNumeros):\n",
        "  print(\"numero a insertar\")\n",
        "  numero = int(input())\n",
        "  numeros =+ numero\n",
        "  lista.append(numero)\n",
        "print(numeros/len(lista))\n",
        "\n",
        "\n"
      ]
    },
    {
      "cell_type": "markdown",
      "metadata": {
        "id": "bw48_YTmiD9n"
      },
      "source": [
        "**5) Realiza un programa que pida al usuario un número entero del 0 al 9, y que mientras el número no sea correcto se repita el proceso. Luego debe comprobar si el número se encuentra en la lista de números y notificarlo:**\n",
        "\n",
        "*Consejo: La sintaxis \"valor in lista\" permite comprobar fácilmente si un valor se encuentra en una lista (devuelve True o False)*"
      ]
    },
    {
      "cell_type": "code",
      "execution_count": null,
      "metadata": {
        "id": "kt6nTE-oiD9o"
      },
      "outputs": [],
      "source": [
        "# Completa el ejercicio aquí\n",
        "numeros = [1, 3, 6, 9]\n"
      ]
    },
    {
      "cell_type": "markdown",
      "metadata": {
        "id": "b7KSqaxoiD9p"
      },
      "source": [
        "**6) Utilizando la función range() y la conversión a listas genera las siguientes listas dinámicamente:**\n",
        "* Todos los números del 0 al 10 [0, 1, 2, ..., 10]\n",
        "* Todos los números del -10 al 0 [-10, -9, -8, ..., 0]\n",
        "* Todos los números pares del 0 al 20 [0, 2, 4, ..., 20]\n",
        "* Todos los números impares entre -20 y 0 [-19, -17, -15, ..., -1]\n",
        "* Todos los números múltiples de 5 del 0 al 50 [0, 5, 10, ..., 50]\n",
        "\n",
        "*Pista: Utiliza el tercer parámetro de la función range(inicio, fin, salto).*"
      ]
    },
    {
      "cell_type": "code",
      "execution_count": 21,
      "metadata": {
        "colab": {
          "base_uri": "https://localhost:8080/"
        },
        "id": "YYcprVg-iD9q",
        "outputId": "d6006c64-6a30-480d-fde1-e729b5eef369"
      },
      "outputs": [
        {
          "output_type": "stream",
          "name": "stdout",
          "text": [
            "[0, 1, 2, 3, 4, 5, 6, 7, 8, 9, 10]\n",
            "[-10, -9, -8, -7, -6, -5, -4, -3, -2, -1, 0]\n",
            "[0, 2, 4, 6, 8, 10, 12, 14, 16, 18, 20]\n",
            "[-19, -17, -15, -13, -11, -9, -7, -5, -3, -1]\n",
            "[0, 5, 10, 15, 20, 25, 30, 35, 40, 45]\n"
          ]
        }
      ],
      "source": [
        "\n",
        "print(list(range(0, 11)))\n",
        "print(list(range(-10, 1)))\n",
        "print(list(range(0, 21, 2)))\n",
        "print(list(range(-19, 0, 2)))\n",
        "print(list(range(0, 50, 5)))"
      ]
    },
    {
      "cell_type": "markdown",
      "metadata": {
        "id": "VUHgT2N4iD9q"
      },
      "source": [
        "**7) Dadas dos listas, debes generar una tercera con todos los elementos que se repitan en ellas, pero no debe repetise ningún elemento en la nueva lista:**"
      ]
    },
    {
      "cell_type": "code",
      "execution_count": 24,
      "metadata": {
        "colab": {
          "base_uri": "https://localhost:8080/"
        },
        "id": "a8vZ4wv1iD9q",
        "outputId": "ade83fa0-01ce-429b-afc5-7e96c7aab6d8"
      },
      "outputs": [
        {
          "output_type": "stream",
          "name": "stdout",
          "text": [
            "[2, 3]\n"
          ]
        }
      ],
      "source": [
        "lista1 = [1, 2, 3]\n",
        "lista2 = [2,3, 4]\n",
        "lista3 = []\n",
        "\n",
        "for i in lista1:\n",
        "  if i in lista2:\n",
        "    lista3.append(i)\n",
        "\n",
        "print(lista3)\n"
      ]
    }
  ],
  "metadata": {
    "anaconda-cloud": {},
    "kernelspec": {
      "display_name": "Python [default]",
      "language": "python",
      "name": "python3"
    },
    "language_info": {
      "codemirror_mode": {
        "name": "ipython",
        "version": 3
      },
      "file_extension": ".py",
      "mimetype": "text/x-python",
      "name": "python",
      "nbconvert_exporter": "python",
      "pygments_lexer": "ipython3",
      "version": "3.5.2"
    },
    "colab": {
      "name": "Enunciados.ipynb",
      "provenance": [],
      "include_colab_link": true
    }
  },
  "nbformat": 4,
  "nbformat_minor": 0
}