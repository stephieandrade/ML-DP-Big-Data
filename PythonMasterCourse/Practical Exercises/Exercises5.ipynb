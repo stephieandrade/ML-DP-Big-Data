{
  "cells": [
    {
      "cell_type": "markdown",
      "metadata": {
        "id": "view-in-github",
        "colab_type": "text"
      },
      "source": [
        "<a href=\"https://colab.research.google.com/github/stephieandrade/Python_Exercises/blob/main/Exercises5.ipynb\" target=\"_parent\"><img src=\"https://colab.research.google.com/assets/colab-badge.svg\" alt=\"Open In Colab\"/></a>"
      ]
    },
    {
      "cell_type": "markdown",
      "metadata": {
        "id": "CiltjaBRKi4-"
      },
      "source": [
        "# Tema 07: Gestión de errores (Enunciados)\n",
        "*Nota: Estos ejercicios son optativos para hacer al final de la unidad y están pensados para apoyar tu aprendizaje*."
      ]
    },
    {
      "cell_type": "markdown",
      "metadata": {
        "id": "2mWTc8HRKi5C"
      },
      "source": [
        "**1) Localiza el error en el siguiente bloque de código. Crea una excepción para evitar que el programa se bloquee y además explica en un mensaje al usuario la causa y/o solución:**"
      ]
    },
    {
      "cell_type": "code",
      "execution_count": 2,
      "metadata": {
        "colab": {
          "base_uri": "https://localhost:8080/"
        },
        "id": "j0CUXNkEKi5C",
        "outputId": "2f2db381-87dc-4de9-eabb-4b678f870e3d"
      },
      "outputs": [
        {
          "output_type": "stream",
          "name": "stdout",
          "text": [
            "no es posible dividir por 0\n"
          ]
        }
      ],
      "source": [
        "# Completa el ejercicio aquí\n",
        "try:\n",
        "  resultado = 10/0\n",
        "except ZeroDivisionError: \n",
        "  print(\"no es posible dividir por 0\")"
      ]
    },
    {
      "cell_type": "code",
      "source": [
        ""
      ],
      "metadata": {
        "id": "UQXUuTRAK5Wq"
      },
      "execution_count": null,
      "outputs": []
    },
    {
      "cell_type": "markdown",
      "metadata": {
        "id": "0t771NgcKi5E"
      },
      "source": [
        "**2) Localiza el error en el siguiente bloque de código.  Crea una excepción para evitar que el programa se bloquee y además explica en un mensaje al usuario la causa y/o solución:**"
      ]
    },
    {
      "cell_type": "code",
      "execution_count": 3,
      "metadata": {
        "colab": {
          "base_uri": "https://localhost:8080/"
        },
        "id": "PPdLBRKFKi5E",
        "outputId": "278b6fdb-b950-41ee-aa2b-ecca06cd9efa"
      },
      "outputs": [
        {
          "output_type": "stream",
          "name": "stdout",
          "text": [
            "indice fuera de rango\n"
          ]
        }
      ],
      "source": [
        "# Completa el ejercicio aquí\n",
        "try:\n",
        "  lista = [1, 2, 3, 4, 5]\n",
        "  lista[10]\n",
        "except IndexError:\n",
        "  print(\"indice fuera de rango\")"
      ]
    },
    {
      "cell_type": "markdown",
      "metadata": {
        "id": "i9-5yjxOKi5F"
      },
      "source": [
        "**3) Localiza el error en el siguiente bloque de código.  Crea una excepción para evitar que el programa se bloquee y además explica en un mensaje al usuario la causa y/o solución:**"
      ]
    },
    {
      "cell_type": "code",
      "execution_count": 4,
      "metadata": {
        "colab": {
          "base_uri": "https://localhost:8080/"
        },
        "id": "Otg6kBZEKi5F",
        "outputId": "27ae96b2-e027-4e8d-fd77-fd1b60266547"
      },
      "outputs": [
        {
          "output_type": "stream",
          "name": "stdout",
          "text": [
            "clave no esta definida en el diccionario\n"
          ]
        }
      ],
      "source": [
        "# Completa el ejercicio aquí\n",
        "try:\n",
        "  colores = { 'rojo':'red', 'verde':'green', 'negro':'black' } \n",
        "  colores['blanco']\n",
        "except KeyError:\n",
        "  print(\"clave no esta definida en el diccionario\")"
      ]
    },
    {
      "cell_type": "markdown",
      "metadata": {
        "id": "Qjk2ARfrKi5G"
      },
      "source": [
        "**4) Localiza el error en el siguiente bloque de código.  Crea una excepción para evitar que el programa se bloquee y además explica en un mensaje al usuario la causa y/o solución:**"
      ]
    },
    {
      "cell_type": "code",
      "execution_count": 6,
      "metadata": {
        "colab": {
          "base_uri": "https://localhost:8080/"
        },
        "id": "-4E9TIFdKi5H",
        "outputId": "0ac6328e-fbf6-46ea-bcb5-451f2a82c12d"
      },
      "outputs": [
        {
          "output_type": "stream",
          "name": "stdout",
          "text": [
            "no se puede sumar int y str, exepcion atrapada\n"
          ]
        }
      ],
      "source": [
        "# Completa el ejercicio aquí\n",
        "try:\n",
        "  resultado = 15 + \"20\"\n",
        "  raise TypeError(\"no se puede sumar int y str\")\n",
        "except TypeError:\n",
        "  print(\"no se puede sumar int y str, exepcion atrapada\")"
      ]
    },
    {
      "cell_type": "markdown",
      "metadata": {
        "id": "A9qatlNxKi5I"
      },
      "source": [
        "**5) Realiza una función llamada agregar_una_vez() que reciba una lista y un elemento. La función debe añadir el elemento al final de la lista con la condición de no repetir ningún elemento. Además si este elemento ya se encuentra en la lista se debe invocar un error de tipo ValueError que debes capturar y mostrar este mensaje en su lugar:**\n",
        "\n",
        "```\n",
        "  Error: Imposible añadir elementos duplicados => [elemento].\n",
        "```\n",
        "** Prueba de agregar los elementos 10, -2, \"Hola\" a la lista de elementos con la función una vez la has creado y luego muestra su contenido.**\n",
        "\n",
        "*Nota: Puedes utilizar la sintaxis: elemento in lista*"
      ]
    },
    {
      "cell_type": "code",
      "execution_count": 16,
      "metadata": {
        "colab": {
          "base_uri": "https://localhost:8080/"
        },
        "id": "_bBATaFIKi5I",
        "outputId": "bd32f7c3-395b-4cfd-abc9-1f086a48111c"
      },
      "outputs": [
        {
          "output_type": "stream",
          "name": "stdout",
          "text": [
            "Error: Imposible añadir elementos duplicados => 1\n"
          ]
        }
      ],
      "source": [
        "elementos = [1, 5, -2]\n",
        "\n",
        " \n",
        "def agregar_una_vez(lista, el):\n",
        "    try:\n",
        "      if el in lista:\n",
        "       raise ValueError\n",
        "      else:\n",
        "        lista.append(el)\n",
        "    except ValueError:\n",
        "      print(\"Error: Imposible añadir elementos duplicados => {}\".format(el))\n",
        "\n",
        "agregar_una_vez(elementos, 1)\n",
        " \n"
      ]
    }
  ],
  "metadata": {
    "anaconda-cloud": {},
    "kernelspec": {
      "display_name": "Python [default]",
      "language": "python",
      "name": "python3"
    },
    "language_info": {
      "codemirror_mode": {
        "name": "ipython",
        "version": 3
      },
      "file_extension": ".py",
      "mimetype": "text/x-python",
      "name": "python",
      "nbconvert_exporter": "python",
      "pygments_lexer": "ipython3",
      "version": "3.5.2"
    },
    "colab": {
      "name": "Enunciados.ipynb",
      "provenance": [],
      "include_colab_link": true
    }
  },
  "nbformat": 4,
  "nbformat_minor": 0
}